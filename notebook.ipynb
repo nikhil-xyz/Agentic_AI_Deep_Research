{
 "cells": [
  {
   "cell_type": "code",
   "execution_count": 1,
   "id": "3993bf30",
   "metadata": {},
   "outputs": [],
   "source": [
    "import os\n",
    "from dotenv import load_dotenv"
   ]
  },
  {
   "cell_type": "code",
   "execution_count": 2,
   "id": "d169c062",
   "metadata": {},
   "outputs": [
    {
     "data": {
      "text/plain": [
       "True"
      ]
     },
     "execution_count": 2,
     "metadata": {},
     "output_type": "execute_result"
    }
   ],
   "source": [
    "load_dotenv()"
   ]
  },
  {
   "cell_type": "code",
   "execution_count": 3,
   "id": "81e88997",
   "metadata": {},
   "outputs": [],
   "source": [
    "os.environ['TAVILY_API_KEY'] = os.getenv('TAVILY_API_KEY')\n",
    "os.environ['GROQ_API_KEY'] = os.getenv('GROQ_API_KEY')"
   ]
  },
  {
   "cell_type": "code",
   "execution_count": 4,
   "id": "6c040e85",
   "metadata": {},
   "outputs": [],
   "source": [
    "from langchain_community.tools.tavily_search import TavilySearchResults\n",
    "tavily = TavilySearchResults()"
   ]
  },
  {
   "cell_type": "code",
   "execution_count": 5,
   "id": "1df4766f",
   "metadata": {},
   "outputs": [],
   "source": [
    "result = tavily.invoke(\"what is large language model\")"
   ]
  },
  {
   "cell_type": "code",
   "execution_count": 6,
   "id": "784e038a",
   "metadata": {},
   "outputs": [
    {
     "data": {
      "text/plain": [
       "[{'title': 'Large language model - Wikipedia',\n",
       "  'url': 'https://en.wikipedia.org/wiki/Large_language_model',\n",
       "  'content': 'A large language model (LLM) is a type of machine learning model designed for natural language processing tasks such as language generation. LLMs are language models with many parameters, and are trained with self-supervised learning on a vast amount of text. [...] tasks and understanding. The NTL Model outlines how specific neural structures of the human brain shape the nature of thought and language and in turn what are the computational properties of such neural systems that can be applied to model thought and language in a computer system. After a framework for modeling language in a computer systems was established, the focus shifted to establishing frameworks for computer systems to generate language with acceptable grammar. In his 2014 book titled [...] The training compute of notable large AI models in FLOPs vs publication date over the period 2017-2024. The majority of large models are language models or multimodal models with language capacity.',\n",
       "  'score': 0.9536608},\n",
       " {'title': 'What is a large language model (LLM)?',\n",
       "  'url': 'https://ask.library.arizona.edu/faq/407985',\n",
       "  'content': 'A large language model (LLM) is a type of artificial intelligence that can generate human language and perform related tasks. These models are trained on huge datasets, often containing billions of words. By analyzing all this data, the LLM learns patterns and rules of language, similar to how a human learns to communicate through exposure to language. LLMs can perform various language tasks, such as answering questions, summarizing text, translating between languages, and writing content. [...] A large language model (LLM) is a type of artificial intelligence that can generate human language and perform related tasks. These models are trained on huge datasets, often containing billions of words. By analyzing all this data, the LLM learns patterns and rules of language, similar to how a human learns to communicate through exposure to language. LLMs can perform various language tasks, such as answering questions, summarizing text, translating between languages, and writing content.',\n",
       "  'score': 0.95186776},\n",
       " {'title': 'What are Large Language Models (LLMs)? - TechTarget',\n",
       "  'url': 'https://www.techtarget.com/whatis/definition/large-language-model-LLM',\n",
       "  'content': \"A large language model is a type of artificial intelligence algorithm that uses\\xa0deep learning\\xa0techniques and massively large data sets to understand, summarize, generate and predict new content. The term\\xa0generative AI\\xa0also is closely connected with LLMs, which are, in fact, a type of generative AI that has been specifically architected to help generate text-based content. [...] An LLM is the evolution of the language model concept in AI that dramatically expands the data used for training and inference. In turn, it provides a massive increase in the capabilities of the AI model. While there isn't a universally accepted figure for how large the data set for training needs to be, an LLM typically has at least one billion or more parameters. Parameters\\xa0are a\\xa0machine learning\\xa0term for the variables present in the model on which it was trained that can be used to infer new\",\n",
       "  'score': 0.94225764},\n",
       " {'title': 'What is an LLM (large language model)? - Cloudflare',\n",
       "  'url': 'https://www.cloudflare.com/learning/ai/what-is-large-language-model/',\n",
       "  'content': 'A large language model (LLM) is a type of artificial intelligence (AI) program that can recognize and generate text, among other tasks. LLMs are trained on huge sets of data — hence the name \"large.\" LLMs are built on machine learning: specifically, a type of neural network called a transformer model. [...] Log in\\nSolutionsProductsPricingResourcesPartnersWhy Cloudflare\\nSupport\\nSign up\\nWhat is a large language model (LLM)?\\nLarge language models (LLMs) are machine learning models that can comprehend and generate human language text. They work by analyzing massive data sets of language.\\nLearning Center\\n\\n\\nWhat is artificial intelligence (AI)?\\n\\n\\nWhat is a large language model (LLM)?\\n\\n\\nMachine learning\\n\\nGlossary\\n\\nLearning Objectives\\nAfter reading this article you will be able to: [...] In simpler terms, an LLM is a computer program that has been fed enough examples to be able to recognize and interpret human language or other types of complex data. Many LLMs are trained on data that has been gathered from the Internet — thousands or millions of gigabytes\\' worth of text. But the quality of the samples impacts how well LLMs will learn natural language, so an LLM\\'s programmers may use a more curated data set.',\n",
       "  'score': 0.9416167},\n",
       " {'title': 'What are Large Language Models? | NVIDIA',\n",
       "  'url': 'https://www.nvidia.com/en-us/glossary/large-language-models/',\n",
       "  'content': 'State-of-the-art system for AV safety, from the cloud to the car\\n\\nLarge Language Models Explained\\n\\nLarge language models (LLMs) are deep learning algorithms that can recognize, summarize, translate, predict, and generate content using very large datasets.\\n\\nWhat are Large Language Models? [...] How Do Large Language Models Work?\\n\\nLarge language models are trained using unsupervised learning. With unsupervised learning, models can find previously unknown patterns in data using unlabelled datasets. This also eliminates the need for extensive data labeling, which is one of the biggest challenges in building AI models. [...] Large language models largely represent a class of deep learning architectures called transformer networks. A transformer model is a neural network that learns context and meaning by tracking relationships in sequential data, like the words in this sentence.',\n",
       "  'score': 0.939919}]"
      ]
     },
     "execution_count": 6,
     "metadata": {},
     "output_type": "execute_result"
    }
   ],
   "source": [
    "result"
   ]
  },
  {
   "cell_type": "code",
   "execution_count": 7,
   "id": "2ecc871b",
   "metadata": {},
   "outputs": [
    {
     "data": {
      "text/plain": [
       "'A large language model (LLM) is a type of machine learning model designed for natural language processing tasks such as language generation. LLMs are language models with many parameters, and are trained with self-supervised learning on a vast amount of text. [...] tasks and understanding. The NTL Model outlines how specific neural structures of the human brain shape the nature of thought and language and in turn what are the computational properties of such neural systems that can be applied to model thought and language in a computer system. After a framework for modeling language in a computer systems was established, the focus shifted to establishing frameworks for computer systems to generate language with acceptable grammar. In his 2014 book titled [...] The training compute of notable large AI models in FLOPs vs publication date over the period 2017-2024. The majority of large models are language models or multimodal models with language capacity.'"
      ]
     },
     "execution_count": 7,
     "metadata": {},
     "output_type": "execute_result"
    }
   ],
   "source": [
    "result[0]['content']"
   ]
  },
  {
   "cell_type": "code",
   "execution_count": null,
   "id": "7067bc71",
   "metadata": {},
   "outputs": [],
   "source": []
  }
 ],
 "metadata": {
  "kernelspec": {
   "display_name": "langgraph",
   "language": "python",
   "name": "python3"
  },
  "language_info": {
   "codemirror_mode": {
    "name": "ipython",
    "version": 3
   },
   "file_extension": ".py",
   "mimetype": "text/x-python",
   "name": "python",
   "nbconvert_exporter": "python",
   "pygments_lexer": "ipython3",
   "version": "3.12.9"
  }
 },
 "nbformat": 4,
 "nbformat_minor": 5
}
