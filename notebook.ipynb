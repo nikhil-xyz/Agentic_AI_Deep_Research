{
 "cells": [
  {
   "cell_type": "code",
   "execution_count": 1,
   "id": "3993bf30",
   "metadata": {},
   "outputs": [],
   "source": [
    "import os\n",
    "from dotenv import load_dotenv"
   ]
  },
  {
   "cell_type": "code",
   "execution_count": 2,
   "id": "d169c062",
   "metadata": {},
   "outputs": [
    {
     "data": {
      "text/plain": [
       "True"
      ]
     },
     "execution_count": 2,
     "metadata": {},
     "output_type": "execute_result"
    }
   ],
   "source": [
    "load_dotenv()"
   ]
  },
  {
   "cell_type": "code",
   "execution_count": 3,
   "id": "81e88997",
   "metadata": {},
   "outputs": [],
   "source": [
    "os.environ['TAVILY_API_KEY'] = os.getenv('TAVILY_API_KEY')\n",
    "os.environ['GROQ_API_KEY'] = os.getenv('GROQ_API_KEY')"
   ]
  },
  {
   "cell_type": "code",
   "execution_count": 4,
   "id": "6c040e85",
   "metadata": {},
   "outputs": [],
   "source": [
    "from langchain_community.tools.tavily_search import TavilySearchResults\n",
    "tavily = TavilySearchResults()"
   ]
  },
  {
   "cell_type": "code",
   "execution_count": 5,
   "id": "1df4766f",
   "metadata": {},
   "outputs": [],
   "source": [
    "result = tavily.invoke(\"what is large language model\")"
   ]
  },
  {
   "cell_type": "code",
   "execution_count": 6,
   "id": "784e038a",
   "metadata": {},
   "outputs": [
    {
     "data": {
      "text/plain": [
       "[{'title': 'Large language model - Wikipedia',\n",
       "  'url': 'https://en.wikipedia.org/wiki/Large_language_model',\n",
       "  'content': 'A large language model (LLM) is a type of machine learning model designed for natural language processing tasks such as language generation. LLMs are language models with many parameters, and are trained with self-supervised learning on a vast amount of text. [...] tasks and understanding. The NTL Model outlines how specific neural structures of the human brain shape the nature of thought and language and in turn what are the computational properties of such neural systems that can be applied to model thought and language in a computer system. After a framework for modeling language in a computer systems was established, the focus shifted to establishing frameworks for computer systems to generate language with acceptable grammar. In his 2014 book titled [...] The training compute of notable large AI models in FLOPs vs publication date over the period 2017-2024. The majority of large models are language models or multimodal models with language capacity.',\n",
       "  'score': 0.9536608},\n",
       " {'title': 'What is a large language model (LLM)?',\n",
       "  'url': 'https://ask.library.arizona.edu/faq/407985',\n",
       "  'content': 'A large language model (LLM) is a type of artificial intelligence that can generate human language and perform related tasks. These models are trained on huge datasets, often containing billions of words. By analyzing all this data, the LLM learns patterns and rules of language, similar to how a human learns to communicate through exposure to language. LLMs can perform various language tasks, such as answering questions, summarizing text, translating between languages, and writing content. [...] A large language model (LLM) is a type of artificial intelligence that can generate human language and perform related tasks. These models are trained on huge datasets, often containing billions of words. By analyzing all this data, the LLM learns patterns and rules of language, similar to how a human learns to communicate through exposure to language. LLMs can perform various language tasks, such as answering questions, summarizing text, translating between languages, and writing content.',\n",
       "  'score': 0.95186776},\n",
       " {'title': 'What are Large Language Models (LLMs)? - TechTarget',\n",
       "  'url': 'https://www.techtarget.com/whatis/definition/large-language-model-LLM',\n",
       "  'content': \"A large language model is a type of artificial intelligence algorithm that uses\\xa0deep learning\\xa0techniques and massively large data sets to understand, summarize, generate and predict new content. The term\\xa0generative AI\\xa0also is closely connected with LLMs, which are, in fact, a type of generative AI that has been specifically architected to help generate text-based content. [...] An LLM is the evolution of the language model concept in AI that dramatically expands the data used for training and inference. In turn, it provides a massive increase in the capabilities of the AI model. While there isn't a universally accepted figure for how large the data set for training needs to be, an LLM typically has at least one billion or more parameters. Parameters\\xa0are a\\xa0machine learning\\xa0term for the variables present in the model on which it was trained that can be used to infer new\",\n",
       "  'score': 0.94225764},\n",
       " {'title': 'What is an LLM (large language model)? - Cloudflare',\n",
       "  'url': 'https://www.cloudflare.com/learning/ai/what-is-large-language-model/',\n",
       "  'content': 'A large language model (LLM) is a type of artificial intelligence (AI) program that can recognize and generate text, among other tasks. LLMs are trained on huge sets of data — hence the name \"large.\" LLMs are built on machine learning: specifically, a type of neural network called a transformer model. [...] Log in\\nSolutionsProductsPricingResourcesPartnersWhy Cloudflare\\nSupport\\nSign up\\nWhat is a large language model (LLM)?\\nLarge language models (LLMs) are machine learning models that can comprehend and generate human language text. They work by analyzing massive data sets of language.\\nLearning Center\\n\\n\\nWhat is artificial intelligence (AI)?\\n\\n\\nWhat is a large language model (LLM)?\\n\\n\\nMachine learning\\n\\nGlossary\\n\\nLearning Objectives\\nAfter reading this article you will be able to: [...] In simpler terms, an LLM is a computer program that has been fed enough examples to be able to recognize and interpret human language or other types of complex data. Many LLMs are trained on data that has been gathered from the Internet — thousands or millions of gigabytes\\' worth of text. But the quality of the samples impacts how well LLMs will learn natural language, so an LLM\\'s programmers may use a more curated data set.',\n",
       "  'score': 0.9416167},\n",
       " {'title': 'What are Large Language Models? | NVIDIA',\n",
       "  'url': 'https://www.nvidia.com/en-us/glossary/large-language-models/',\n",
       "  'content': 'State-of-the-art system for AV safety, from the cloud to the car\\n\\nLarge Language Models Explained\\n\\nLarge language models (LLMs) are deep learning algorithms that can recognize, summarize, translate, predict, and generate content using very large datasets.\\n\\nWhat are Large Language Models? [...] How Do Large Language Models Work?\\n\\nLarge language models are trained using unsupervised learning. With unsupervised learning, models can find previously unknown patterns in data using unlabelled datasets. This also eliminates the need for extensive data labeling, which is one of the biggest challenges in building AI models. [...] Large language models largely represent a class of deep learning architectures called transformer networks. A transformer model is a neural network that learns context and meaning by tracking relationships in sequential data, like the words in this sentence.',\n",
       "  'score': 0.939919}]"
      ]
     },
     "execution_count": 6,
     "metadata": {},
     "output_type": "execute_result"
    }
   ],
   "source": [
    "result"
   ]
  },
  {
   "cell_type": "code",
   "execution_count": 7,
   "id": "2ecc871b",
   "metadata": {},
   "outputs": [
    {
     "data": {
      "text/plain": [
       "'A large language model (LLM) is a type of machine learning model designed for natural language processing tasks such as language generation. LLMs are language models with many parameters, and are trained with self-supervised learning on a vast amount of text. [...] tasks and understanding. The NTL Model outlines how specific neural structures of the human brain shape the nature of thought and language and in turn what are the computational properties of such neural systems that can be applied to model thought and language in a computer system. After a framework for modeling language in a computer systems was established, the focus shifted to establishing frameworks for computer systems to generate language with acceptable grammar. In his 2014 book titled [...] The training compute of notable large AI models in FLOPs vs publication date over the period 2017-2024. The majority of large models are language models or multimodal models with language capacity.'"
      ]
     },
     "execution_count": 7,
     "metadata": {},
     "output_type": "execute_result"
    }
   ],
   "source": [
    "result[0]['content']"
   ]
  },
  {
   "cell_type": "code",
   "execution_count": 8,
   "id": "7067bc71",
   "metadata": {},
   "outputs": [],
   "source": [
    "from langchain_community.tools import ArxivQueryRun\n",
    "from langchain_community.tools import WikipediaQueryRun"
   ]
  },
  {
   "cell_type": "code",
   "execution_count": 9,
   "id": "88d6a98f",
   "metadata": {},
   "outputs": [],
   "source": [
    "from langchain_community.utilities import ArxivAPIWrapper\n",
    "from langchain_community.utilities import WikipediaAPIWrapper"
   ]
  },
  {
   "cell_type": "code",
   "execution_count": 19,
   "id": "a6046dc9",
   "metadata": {},
   "outputs": [],
   "source": [
    "wiki_api = WikipediaAPIWrapper(top_k_results=3, doc_content_chars_max=200)\n",
    "wikipedia = WikipediaQueryRun(api_wrapper=wiki_api)"
   ]
  },
  {
   "cell_type": "code",
   "execution_count": 20,
   "id": "12f9030a",
   "metadata": {},
   "outputs": [],
   "source": [
    "arxiv_api = ArxivAPIWrapper(top_k_results=3, doc_content_chars_max=200)\n",
    "arxiv = ArxivQueryRun(api_wrapper=arxiv_api)"
   ]
  },
  {
   "cell_type": "code",
   "execution_count": 21,
   "id": "99b09d1d",
   "metadata": {},
   "outputs": [],
   "source": [
    "tools = [wikipedia, arxiv, tavily]"
   ]
  },
  {
   "cell_type": "code",
   "execution_count": 22,
   "id": "f8de3983",
   "metadata": {},
   "outputs": [],
   "source": [
    "from langchain_groq import ChatGroq\n",
    "\n",
    "llm = ChatGroq(model='qwen-qwq-32b')"
   ]
  },
  {
   "cell_type": "code",
   "execution_count": 23,
   "id": "a2133b72",
   "metadata": {},
   "outputs": [],
   "source": [
    "llm_with_tools = llm.bind_tools(tools=tools)"
   ]
  },
  {
   "cell_type": "code",
   "execution_count": 26,
   "id": "aafceeee",
   "metadata": {},
   "outputs": [
    {
     "data": {
      "text/plain": [
       "[{'title': 'Artificial Neural Network | NVIDIA Developer',\n",
       "  'url': 'https://developer.nvidia.com/discover/artificial-neural-network',\n",
       "  'content': 'Artificial Neural Network\\n\\nAn artificial neural network is a biologically inspired computational model that is patterned after the network of neurons present in the human brain. Artificial neural networks can also be thought of as learning algorithms that model the input-output relationship. Applications of artificial neural networks include pattern recognition and forecasting in fields such as medicine, business, pure sciences, data mining, telecommunications, and operations managements. [...] An artificial neural network transforms input data by applying a nonlinear function to a weighted sum of the inputs. The transformation is known as a neural layer and the function is referred to as a neural unit. The intermediate outputs of one layer, called features, are used as the input into the next layer. The neural network through repeated transformations learns multiple layers of nonlinear features (like edges and shapes), which it then combines in a final layer to create a prediction [...] Once the artificial neural network has been trained, it can accurately predict outputs when presented with inputs, a process referred to as neural network inference. To perform inference, the trained neural network can be deployed in platforms ranging from the cloud, to enterprise datacenters, to resource-constrained edge devices. The deployment platform and type of application impose unique latency, throughput, and application size requirements on runtime.  For example, a neural network',\n",
       "  'score': 0.953557},\n",
       " {'title': 'Neural network (machine learning) - Wikipedia',\n",
       "  'url': 'https://en.wikipedia.org/wiki/Neural_network_(machine_learning)',\n",
       "  'content': \"An artificial neural network is an interconnected group of nodes, inspired by a simplification of neurons in a brain. Here, each circular node represents an artificial neuron and an arrow represents a connection from the output of one artificial neuron to the input of another.\\nIn machine learning, a neural network (also artificial neural network or neural net, abbreviated ANN or NN) is a model inspired by the structure and function of biological neural networks in animal brains.[1][2] [...] Recent advancements and future directions[edit]\\nArtificial neural networks (ANNs) have undergone significant advancements, particularly in their ability to model complex systems, handle large data sets, and adapt to various types of applications. Their evolution over the past few decades has been marked by a broad range of applications in fields such as image processing, speech recognition, natural language processing, finance, and medicine.[citation needed]\\nImage processing[edit] [...] An artificial neural network consists of simulated neurons. Each neuron is connected to other nodes via links like a biological axon-synapse-dendrite connection. All the nodes connected by links take in some data and use it to perform specific operations and tasks on the data. Each link has a weight, determining the strength of one node's influence on another,[113] allowing weights to choose the signal between neurons.\\nArtificial neurons[edit]\\nMain article: Artificial neuron\",\n",
       "  'score': 0.94911116},\n",
       " {'title': 'Overview of artificial neural networks - PubMed',\n",
       "  'url': 'https://pubmed.ncbi.nlm.nih.gov/19065803/',\n",
       "  'content': 'The artificial neural network (ANN), or simply neural network, is a machine learning method evolved from the idea of simulating the human brain. The data explosion in modem drug discovery research requires sophisticated analysis methods to uncover the hidden causal relationships between single or multiple responses and a large set of properties. The ANN is one of many versatile tools to meet the demand in drug discovery modeling. Compared to a traditional regression approach, the ANN is capable',\n",
       "  'score': 0.9412289},\n",
       " {'title': 'What is an Artificial Neural Network? - Databricks',\n",
       "  'url': 'https://www.databricks.com/glossary/artificial-neural-network',\n",
       "  'content': 'An artificial neuron network (ANN) is a computing system patterned after the operation of neurons in the human brain.',\n",
       "  'score': 0.9168945},\n",
       " {'title': 'Artificial Neural Network - an overview | ScienceDirect Topics',\n",
       "  'url': 'https://www.sciencedirect.com/topics/earth-and-planetary-sciences/artificial-neural-network',\n",
       "  'content': 'Artificial neural networks are a technology based on studies of the brain and nervous system as depicted in Fig. 1. These networks emulate a biological neural',\n",
       "  'score': 0.9145431}]"
      ]
     },
     "execution_count": 26,
     "metadata": {},
     "output_type": "execute_result"
    }
   ],
   "source": [
    "tavily.invoke(\"what is artificial neural networks?\")"
   ]
  },
  {
   "cell_type": "code",
   "execution_count": null,
   "id": "95fc18bc",
   "metadata": {},
   "outputs": [],
   "source": []
  }
 ],
 "metadata": {
  "kernelspec": {
   "display_name": "langgraph",
   "language": "python",
   "name": "python3"
  },
  "language_info": {
   "codemirror_mode": {
    "name": "ipython",
    "version": 3
   },
   "file_extension": ".py",
   "mimetype": "text/x-python",
   "name": "python",
   "nbconvert_exporter": "python",
   "pygments_lexer": "ipython3",
   "version": "3.12.9"
  }
 },
 "nbformat": 4,
 "nbformat_minor": 5
}
