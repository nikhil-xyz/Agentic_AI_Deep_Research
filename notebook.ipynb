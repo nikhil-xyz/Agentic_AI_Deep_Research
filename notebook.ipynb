{
 "cells": [
  {
   "cell_type": "code",
   "execution_count": 1,
   "id": "3993bf30",
   "metadata": {},
   "outputs": [],
   "source": [
    "import os\n",
    "from dotenv import load_dotenv"
   ]
  },
  {
   "cell_type": "code",
   "execution_count": 2,
   "id": "d169c062",
   "metadata": {},
   "outputs": [
    {
     "data": {
      "text/plain": [
       "True"
      ]
     },
     "execution_count": 2,
     "metadata": {},
     "output_type": "execute_result"
    }
   ],
   "source": [
    "load_dotenv()"
   ]
  },
  {
   "cell_type": "code",
   "execution_count": 3,
   "id": "81e88997",
   "metadata": {},
   "outputs": [],
   "source": [
    "os.environ['TAVILY_API_KEY'] = os.getenv('TAVILY_API_KEY')\n",
    "os.environ['GROQ_API_KEY'] = os.getenv('GROQ_API_KEY')"
   ]
  },
  {
   "cell_type": "code",
   "execution_count": 35,
   "id": "6c040e85",
   "metadata": {},
   "outputs": [],
   "source": [
    "from langchain_community.tools.tavily_search import TavilySearchResults\n",
    "tavily = TavilySearchResults(include_images=True)"
   ]
  },
  {
   "cell_type": "code",
   "execution_count": 36,
   "id": "1df4766f",
   "metadata": {},
   "outputs": [],
   "source": [
    "result = tavily.invoke(\"what is large language model\")"
   ]
  },
  {
   "cell_type": "code",
   "execution_count": 37,
   "id": "784e038a",
   "metadata": {},
   "outputs": [
    {
     "data": {
      "text/plain": [
       "[{'title': 'Large language model - Wikipedia',\n",
       "  'url': 'https://en.wikipedia.org/wiki/Large_language_model',\n",
       "  'content': 'A large language model (LLM) is a type of machine learning model designed for natural language processing tasks such as language generation. LLMs are language models with many parameters, and are trained with self-supervised learning on a vast amount of text.',\n",
       "  'score': 0.9536608},\n",
       " {'title': 'What are Large Language Models? | A Comprehensive LLMs Guide',\n",
       "  'url': 'https://www.elastic.co/what-is/large-language-models',\n",
       "  'content': 'What are large language models (LLMs)?\\nExperiment with RAG using AI Playground\\nLarge language model definition\\nA large language model (LLM) is a deep learning algorithm that can perform a variety of natural language processing (NLP) tasks. Large language models use transformer models and are trained using massive datasets — hence, large. This enables them to recognize, translate, predict, or generate text or other content. [...] How do large language models work?\\nA large language model is based on a transformer model and works by receiving an input, encoding it, and then decoding it to produce an output prediction. But before a large language model can receive text input and generate an output prediction, it requires training, so that it can fulfill general functions, and fine-tuning, which enables it to perform specific tasks. [...] Key components of large language models\\nLarge language models are composed of multiple neural network layers. Recurrent layers, feedforward layers, embedding layers, and attention layers work in tandem to process the input text and generate output content.\\nThe embedding layer creates embeddings from the input text. This part of the large language model captures the semantic and syntactic meaning of the input, so the model can understand context.',\n",
       "  'score': 0.95100147},\n",
       " {'title': 'What are Large Language Models (LLMs)? - TechTarget',\n",
       "  'url': 'https://www.techtarget.com/whatis/definition/large-language-model-LLM',\n",
       "  'content': \"A large language model is a type of artificial intelligence algorithm that uses\\xa0deep learning\\xa0techniques and massively large data sets to understand, summarize, generate and predict new content. The term\\xa0generative AI\\xa0also is closely connected with LLMs, which are, in fact, a type of generative AI that has been specifically architected to help generate text-based content. [...] An LLM is the evolution of the language model concept in AI that dramatically expands the data used for training and inference. In turn, it provides a massive increase in the capabilities of the AI model. While there isn't a universally accepted figure for how large the data set for training needs to be, an LLM typically has at least one billion or more parameters. Parameters\\xa0are a\\xa0machine learning\\xa0term for the variables present in the model on which it was trained that can be used to infer new\",\n",
       "  'score': 0.94225764},\n",
       " {'title': 'What is an LLM (large language model)? - Cloudflare',\n",
       "  'url': 'https://www.cloudflare.com/learning/ai/what-is-large-language-model/',\n",
       "  'content': 'A large language model (LLM) is a type of artificial intelligence (AI) program that can recognize and generate text, among other tasks. LLMs are trained on huge sets of data — hence the name \"large.\" LLMs are built on machine learning: specifically, a type of neural network called a transformer model. [...] Log in\\nSolutionsProductsPricingResourcesPartnersWhy Cloudflare\\nSupport\\nSign up\\nWhat is a large language model (LLM)?\\nLarge language models (LLMs) are machine learning models that can comprehend and generate human language text. They work by analyzing massive data sets of language.\\nLearning Center\\n\\n\\nWhat is artificial intelligence (AI)?\\n\\n\\nWhat is a large language model (LLM)?\\n\\n\\nMachine learning\\n\\nGlossary\\n\\nLearning Objectives\\nAfter reading this article you will be able to: [...] In simpler terms, an LLM is a computer program that has been fed enough examples to be able to recognize and interpret human language or other types of complex data. Many LLMs are trained on data that has been gathered from the Internet — thousands or millions of gigabytes\\' worth of text. But the quality of the samples impacts how well LLMs will learn natural language, so an LLM\\'s programmers may use a more curated data set.',\n",
       "  'score': 0.9416167},\n",
       " {'title': 'What are Large Language Models? | NVIDIA',\n",
       "  'url': 'https://www.nvidia.com/en-us/glossary/large-language-models/',\n",
       "  'content': 'Large Language Models Explained\\nLarge language models (LLMs) are deep learning algorithms that can recognize, summarize, translate, predict, and generate content using very large datasets.\\nWhat are Large Language Models?\\nLarge language models largely represent a class of deep learning architectures called transformer networks. A transformer model is a neural network that learns context and meaning by tracking relationships in sequential data, like the words in this sentence.',\n",
       "  'score': 0.9401831}]"
      ]
     },
     "execution_count": 37,
     "metadata": {},
     "output_type": "execute_result"
    }
   ],
   "source": [
    "result"
   ]
  },
  {
   "cell_type": "code",
   "execution_count": 38,
   "id": "2ecc871b",
   "metadata": {},
   "outputs": [
    {
     "data": {
      "text/plain": [
       "'A large language model (LLM) is a type of machine learning model designed for natural language processing tasks such as language generation. LLMs are language models with many parameters, and are trained with self-supervised learning on a vast amount of text.'"
      ]
     },
     "execution_count": 38,
     "metadata": {},
     "output_type": "execute_result"
    }
   ],
   "source": [
    "result[0]['content']"
   ]
  },
  {
   "cell_type": "code",
   "execution_count": 39,
   "id": "7067bc71",
   "metadata": {},
   "outputs": [],
   "source": [
    "from langchain_community.tools import ArxivQueryRun\n",
    "from langchain_community.tools import WikipediaQueryRun"
   ]
  },
  {
   "cell_type": "code",
   "execution_count": 40,
   "id": "88d6a98f",
   "metadata": {},
   "outputs": [],
   "source": [
    "from langchain_community.utilities import ArxivAPIWrapper\n",
    "from langchain_community.utilities import WikipediaAPIWrapper"
   ]
  },
  {
   "cell_type": "code",
   "execution_count": 41,
   "id": "a6046dc9",
   "metadata": {},
   "outputs": [],
   "source": [
    "wiki_api = WikipediaAPIWrapper(top_k_results=3, doc_content_chars_max=200)\n",
    "wikipedia = WikipediaQueryRun(api_wrapper=wiki_api)"
   ]
  },
  {
   "cell_type": "code",
   "execution_count": 42,
   "id": "12f9030a",
   "metadata": {},
   "outputs": [],
   "source": [
    "arxiv_api = ArxivAPIWrapper(top_k_results=3, doc_content_chars_max=200)\n",
    "arxiv = ArxivQueryRun(api_wrapper=arxiv_api)"
   ]
  },
  {
   "cell_type": "code",
   "execution_count": 43,
   "id": "99b09d1d",
   "metadata": {},
   "outputs": [],
   "source": [
    "# tools = [wikipedia, arxiv, tavily]\n",
    "tools = [tavily]"
   ]
  },
  {
   "cell_type": "code",
   "execution_count": 44,
   "id": "f8de3983",
   "metadata": {},
   "outputs": [],
   "source": [
    "from langchain_groq import ChatGroq\n",
    "\n",
    "llm = ChatGroq(model='qwen-qwq-32b')"
   ]
  },
  {
   "cell_type": "code",
   "execution_count": 45,
   "id": "a2133b72",
   "metadata": {},
   "outputs": [],
   "source": [
    "llm_with_tools = llm.bind_tools(tools=tools)"
   ]
  },
  {
   "cell_type": "code",
   "execution_count": 46,
   "id": "aafceeee",
   "metadata": {},
   "outputs": [],
   "source": [
    "result = llm_with_tools.invoke(\"explain the terrif war between the China and the America\")"
   ]
  },
  {
   "cell_type": "code",
   "execution_count": 47,
   "id": "4de98a12",
   "metadata": {},
   "outputs": [
    {
     "data": {
      "text/plain": [
       "AIMessage(content='', additional_kwargs={'tool_calls': [{'id': 'call_xyac', 'function': {'arguments': '{\"query\": \"US China terrif war explanation\"}', 'name': 'tavily_search_results_json'}, 'type': 'function'}]}, response_metadata={'token_usage': {'completion_tokens': 444, 'prompt_tokens': 198, 'total_tokens': 642, 'completion_time': 1.094418831, 'prompt_time': 0.018208344, 'queue_time': 0.247361781, 'total_time': 1.112627175}, 'model_name': 'qwen-qwq-32b', 'system_fingerprint': 'fp_fbb7e6cc39', 'finish_reason': 'tool_calls', 'logprobs': None}, id='run-3c5cd676-d188-47da-b2e3-13c4a8daf041-0', tool_calls=[{'name': 'tavily_search_results_json', 'args': {'query': 'US China terrif war explanation'}, 'id': 'call_xyac', 'type': 'tool_call'}], usage_metadata={'input_tokens': 198, 'output_tokens': 444, 'total_tokens': 642})"
      ]
     },
     "execution_count": 47,
     "metadata": {},
     "output_type": "execute_result"
    }
   ],
   "source": [
    "result"
   ]
  },
  {
   "cell_type": "code",
   "execution_count": 49,
   "id": "95fc18bc",
   "metadata": {},
   "outputs": [
    {
     "data": {
      "text/plain": [
       "[{'name': 'tavily_search_results_json',\n",
       "  'args': {'query': 'US China terrif war explanation'},\n",
       "  'id': 'call_xyac',\n",
       "  'type': 'tool_call'}]"
      ]
     },
     "execution_count": 49,
     "metadata": {},
     "output_type": "execute_result"
    }
   ],
   "source": [
    "tool_calls = result.tool_calls\n",
    "tool_calls"
   ]
  },
  {
   "cell_type": "code",
   "execution_count": 50,
   "id": "d4a50630",
   "metadata": {},
   "outputs": [
    {
     "data": {
      "text/plain": [
       "[{'title': 'China–United States trade war - Wikipedia',\n",
       "  'url': 'https://en.wikipedia.org/wiki/China%E2%80%93United_States_trade_war',\n",
       "  'content': 'An economic conflict between China and the United States has been ongoing since January 2018, when U.S. President Donald Trump began setting tariffs and other trade barriers on China with the goal of forcing it to make changes to what the U.S. says are longstanding unfair trade practices and intellectual property theft.[1] The first Trump administration stated that these practices may contribute to the U.S.–China trade deficit, and that the Chinese government requires transfer of American [...] ^ Tan, Huileng; Mody, Seema (April 4, 2018). \"China\\'s ambassador to the US explains why the country is striking back\". CNBC. Archived from the original on May 13, 2019. Retrieved May 12, 2019.\\n^ \"China imposes additional tariffs on U.S. products worth 50 bln USD\". www.xinhuanet.com. Archived from the original on April 4, 2018. Retrieved April 4, 2018. [...] September 15: A three-person WTO panel found that the Trump administration tariffs violated global trade rules because they had been applied only to China and they exceeded the maximum rates the US had agreed to, without adequate explanation. Lighthizer responded that the finding showed \"the WTO is completely inadequate to stop China\\'s harmful technology practices.\"[224]',\n",
       "  'score': 0.6271529},\n",
       " {'title': 'The Contentious U.S.-China Trade Relationship',\n",
       "  'url': 'https://www.cfr.org/backgrounder/contentious-us-china-trade-relationship',\n",
       "  'content': 'The trade war that started in 2018 resulted in both countries experiencing economic pains; U.S. economic growth slowed, the trade deficit continued to grow, and studies found that U.S. companies primarily bore the cost of the tariffs. CFR Fellow for Trade Policy Inu Manak says these tariffs largely fail to divert trade away from China in a global economy. As China moves production to other parts of the world, the United States eventually purchases Chinese goods from other trade partners, such',\n",
       "  'score': 0.45420644}]"
      ]
     },
     "execution_count": 50,
     "metadata": {},
     "output_type": "execute_result"
    }
   ],
   "source": [
    "# wikipedia.invoke(tool_calls[0]['args'])\n",
    "tavily.invoke(tool_calls[0]['args'])"
   ]
  },
  {
   "cell_type": "code",
   "execution_count": 58,
   "id": "5ee7cfed",
   "metadata": {},
   "outputs": [],
   "source": [
    "from typing import Annotated\n",
    "from typing_extensions import TypedDict\n",
    "from langgraph.graph import StateGraph\n",
    "from langgraph.graph.message import add_messages\n",
    "from langchain_core.messages import AnyMessage, HumanMessage"
   ]
  },
  {
   "cell_type": "code",
   "execution_count": 59,
   "id": "288c4276",
   "metadata": {},
   "outputs": [],
   "source": [
    "class State(TypedDict):\n",
    "    messages : Annotated[list, add_messages]\n",
    "\n",
    "graph_builder = StateGraph(State)"
   ]
  },
  {
   "cell_type": "code",
   "execution_count": 60,
   "id": "2d9bacab",
   "metadata": {},
   "outputs": [],
   "source": [
    "class LLMNode:\n",
    "    def __init__(self, llm):\n",
    "        self.llm = llm\n",
    "    def __call__(self, state:State):\n",
    "        return {\"messages\": [self.llm.invoke(state['messages'])]}\n",
    "    \n",
    "llm_node = LLMNode(llm_with_tools)"
   ]
  },
  {
   "cell_type": "code",
   "execution_count": 61,
   "id": "153e4627",
   "metadata": {},
   "outputs": [],
   "source": [
    "from langgraph.prebuilt import ToolNode\n",
    "tool_node = ToolNode(tools)"
   ]
  },
  {
   "cell_type": "code",
   "execution_count": 62,
   "id": "3e49514b",
   "metadata": {},
   "outputs": [
    {
     "data": {
      "text/plain": [
       "<langgraph.graph.state.StateGraph at 0x251b2080680>"
      ]
     },
     "execution_count": 62,
     "metadata": {},
     "output_type": "execute_result"
    }
   ],
   "source": [
    "graph_builder.add_node(\"llm\", llm_node)\n",
    "graph_builder.add_node(\"tools\", tool_node)"
   ]
  },
  {
   "cell_type": "code",
   "execution_count": 63,
   "id": "745fece2",
   "metadata": {},
   "outputs": [
    {
     "data": {
      "text/plain": [
       "<langgraph.graph.state.StateGraph at 0x251b2080680>"
      ]
     },
     "execution_count": 63,
     "metadata": {},
     "output_type": "execute_result"
    }
   ],
   "source": [
    "from langgraph.graph import START\n",
    "from langgraph.prebuilt import tools_condition\n",
    "\n",
    "graph_builder.add_edge(START, \"llm\")\n",
    "graph_builder.add_conditional_edges(\"llm\", tools_condition)\n",
    "graph_builder.add_edge(\"tools\", \"llm\")"
   ]
  },
  {
   "cell_type": "code",
   "execution_count": 64,
   "id": "f516bf47",
   "metadata": {},
   "outputs": [],
   "source": [
    "agent = graph_builder.compile()"
   ]
  },
  {
   "cell_type": "code",
   "execution_count": 65,
   "id": "765af802",
   "metadata": {},
   "outputs": [
    {
     "ename": "ReadTimeout",
     "evalue": "HTTPSConnectionPool(host='mermaid.ink', port=443): Read timed out. (read timeout=10)",
     "output_type": "error",
     "traceback": [
      "\u001b[31m---------------------------------------------------------------------------\u001b[39m",
      "\u001b[31mTimeoutError\u001b[39m                              Traceback (most recent call last)",
      "\u001b[36mFile \u001b[39m\u001b[32mc:\\Users\\nikhil\\.conda\\envs\\langgraph\\Lib\\site-packages\\urllib3\\connectionpool.py:534\u001b[39m, in \u001b[36mHTTPConnectionPool._make_request\u001b[39m\u001b[34m(self, conn, method, url, body, headers, retries, timeout, chunked, response_conn, preload_content, decode_content, enforce_content_length)\u001b[39m\n\u001b[32m    533\u001b[39m \u001b[38;5;28;01mtry\u001b[39;00m:\n\u001b[32m--> \u001b[39m\u001b[32m534\u001b[39m     response = \u001b[43mconn\u001b[49m\u001b[43m.\u001b[49m\u001b[43mgetresponse\u001b[49m\u001b[43m(\u001b[49m\u001b[43m)\u001b[49m\n\u001b[32m    535\u001b[39m \u001b[38;5;28;01mexcept\u001b[39;00m (BaseSSLError, \u001b[38;5;167;01mOSError\u001b[39;00m) \u001b[38;5;28;01mas\u001b[39;00m e:\n",
      "\u001b[36mFile \u001b[39m\u001b[32mc:\\Users\\nikhil\\.conda\\envs\\langgraph\\Lib\\site-packages\\urllib3\\connection.py:516\u001b[39m, in \u001b[36mHTTPConnection.getresponse\u001b[39m\u001b[34m(self)\u001b[39m\n\u001b[32m    515\u001b[39m \u001b[38;5;66;03m# Get the response from http.client.HTTPConnection\u001b[39;00m\n\u001b[32m--> \u001b[39m\u001b[32m516\u001b[39m httplib_response = \u001b[38;5;28;43msuper\u001b[39;49m\u001b[43m(\u001b[49m\u001b[43m)\u001b[49m\u001b[43m.\u001b[49m\u001b[43mgetresponse\u001b[49m\u001b[43m(\u001b[49m\u001b[43m)\u001b[49m\n\u001b[32m    518\u001b[39m \u001b[38;5;28;01mtry\u001b[39;00m:\n",
      "\u001b[36mFile \u001b[39m\u001b[32mc:\\Users\\nikhil\\.conda\\envs\\langgraph\\Lib\\http\\client.py:1430\u001b[39m, in \u001b[36mHTTPConnection.getresponse\u001b[39m\u001b[34m(self)\u001b[39m\n\u001b[32m   1429\u001b[39m \u001b[38;5;28;01mtry\u001b[39;00m:\n\u001b[32m-> \u001b[39m\u001b[32m1430\u001b[39m     \u001b[43mresponse\u001b[49m\u001b[43m.\u001b[49m\u001b[43mbegin\u001b[49m\u001b[43m(\u001b[49m\u001b[43m)\u001b[49m\n\u001b[32m   1431\u001b[39m \u001b[38;5;28;01mexcept\u001b[39;00m \u001b[38;5;167;01mConnectionError\u001b[39;00m:\n",
      "\u001b[36mFile \u001b[39m\u001b[32mc:\\Users\\nikhil\\.conda\\envs\\langgraph\\Lib\\http\\client.py:331\u001b[39m, in \u001b[36mHTTPResponse.begin\u001b[39m\u001b[34m(self)\u001b[39m\n\u001b[32m    330\u001b[39m \u001b[38;5;28;01mwhile\u001b[39;00m \u001b[38;5;28;01mTrue\u001b[39;00m:\n\u001b[32m--> \u001b[39m\u001b[32m331\u001b[39m     version, status, reason = \u001b[38;5;28;43mself\u001b[39;49m\u001b[43m.\u001b[49m\u001b[43m_read_status\u001b[49m\u001b[43m(\u001b[49m\u001b[43m)\u001b[49m\n\u001b[32m    332\u001b[39m     \u001b[38;5;28;01mif\u001b[39;00m status != CONTINUE:\n",
      "\u001b[36mFile \u001b[39m\u001b[32mc:\\Users\\nikhil\\.conda\\envs\\langgraph\\Lib\\http\\client.py:292\u001b[39m, in \u001b[36mHTTPResponse._read_status\u001b[39m\u001b[34m(self)\u001b[39m\n\u001b[32m    291\u001b[39m \u001b[38;5;28;01mdef\u001b[39;00m\u001b[38;5;250m \u001b[39m\u001b[34m_read_status\u001b[39m(\u001b[38;5;28mself\u001b[39m):\n\u001b[32m--> \u001b[39m\u001b[32m292\u001b[39m     line = \u001b[38;5;28mstr\u001b[39m(\u001b[38;5;28;43mself\u001b[39;49m\u001b[43m.\u001b[49m\u001b[43mfp\u001b[49m\u001b[43m.\u001b[49m\u001b[43mreadline\u001b[49m\u001b[43m(\u001b[49m\u001b[43m_MAXLINE\u001b[49m\u001b[43m \u001b[49m\u001b[43m+\u001b[49m\u001b[43m \u001b[49m\u001b[32;43m1\u001b[39;49m\u001b[43m)\u001b[49m, \u001b[33m\"\u001b[39m\u001b[33miso-8859-1\u001b[39m\u001b[33m\"\u001b[39m)\n\u001b[32m    293\u001b[39m     \u001b[38;5;28;01mif\u001b[39;00m \u001b[38;5;28mlen\u001b[39m(line) > _MAXLINE:\n",
      "\u001b[36mFile \u001b[39m\u001b[32mc:\\Users\\nikhil\\.conda\\envs\\langgraph\\Lib\\socket.py:720\u001b[39m, in \u001b[36mSocketIO.readinto\u001b[39m\u001b[34m(self, b)\u001b[39m\n\u001b[32m    719\u001b[39m \u001b[38;5;28;01mtry\u001b[39;00m:\n\u001b[32m--> \u001b[39m\u001b[32m720\u001b[39m     \u001b[38;5;28;01mreturn\u001b[39;00m \u001b[38;5;28;43mself\u001b[39;49m\u001b[43m.\u001b[49m\u001b[43m_sock\u001b[49m\u001b[43m.\u001b[49m\u001b[43mrecv_into\u001b[49m\u001b[43m(\u001b[49m\u001b[43mb\u001b[49m\u001b[43m)\u001b[49m\n\u001b[32m    721\u001b[39m \u001b[38;5;28;01mexcept\u001b[39;00m timeout:\n",
      "\u001b[36mFile \u001b[39m\u001b[32mc:\\Users\\nikhil\\.conda\\envs\\langgraph\\Lib\\ssl.py:1251\u001b[39m, in \u001b[36mSSLSocket.recv_into\u001b[39m\u001b[34m(self, buffer, nbytes, flags)\u001b[39m\n\u001b[32m   1248\u001b[39m         \u001b[38;5;28;01mraise\u001b[39;00m \u001b[38;5;167;01mValueError\u001b[39;00m(\n\u001b[32m   1249\u001b[39m           \u001b[33m\"\u001b[39m\u001b[33mnon-zero flags not allowed in calls to recv_into() on \u001b[39m\u001b[38;5;132;01m%s\u001b[39;00m\u001b[33m\"\u001b[39m %\n\u001b[32m   1250\u001b[39m           \u001b[38;5;28mself\u001b[39m.\u001b[34m__class__\u001b[39m)\n\u001b[32m-> \u001b[39m\u001b[32m1251\u001b[39m     \u001b[38;5;28;01mreturn\u001b[39;00m \u001b[38;5;28;43mself\u001b[39;49m\u001b[43m.\u001b[49m\u001b[43mread\u001b[49m\u001b[43m(\u001b[49m\u001b[43mnbytes\u001b[49m\u001b[43m,\u001b[49m\u001b[43m \u001b[49m\u001b[43mbuffer\u001b[49m\u001b[43m)\u001b[49m\n\u001b[32m   1252\u001b[39m \u001b[38;5;28;01melse\u001b[39;00m:\n",
      "\u001b[36mFile \u001b[39m\u001b[32mc:\\Users\\nikhil\\.conda\\envs\\langgraph\\Lib\\ssl.py:1103\u001b[39m, in \u001b[36mSSLSocket.read\u001b[39m\u001b[34m(self, len, buffer)\u001b[39m\n\u001b[32m   1102\u001b[39m \u001b[38;5;28;01mif\u001b[39;00m buffer \u001b[38;5;129;01mis\u001b[39;00m \u001b[38;5;129;01mnot\u001b[39;00m \u001b[38;5;28;01mNone\u001b[39;00m:\n\u001b[32m-> \u001b[39m\u001b[32m1103\u001b[39m     \u001b[38;5;28;01mreturn\u001b[39;00m \u001b[38;5;28;43mself\u001b[39;49m\u001b[43m.\u001b[49m\u001b[43m_sslobj\u001b[49m\u001b[43m.\u001b[49m\u001b[43mread\u001b[49m\u001b[43m(\u001b[49m\u001b[38;5;28;43mlen\u001b[39;49m\u001b[43m,\u001b[49m\u001b[43m \u001b[49m\u001b[43mbuffer\u001b[49m\u001b[43m)\u001b[49m\n\u001b[32m   1104\u001b[39m \u001b[38;5;28;01melse\u001b[39;00m:\n",
      "\u001b[31mTimeoutError\u001b[39m: The read operation timed out",
      "\nThe above exception was the direct cause of the following exception:\n",
      "\u001b[31mReadTimeoutError\u001b[39m                          Traceback (most recent call last)",
      "\u001b[36mFile \u001b[39m\u001b[32mc:\\Users\\nikhil\\.conda\\envs\\langgraph\\Lib\\site-packages\\requests\\adapters.py:667\u001b[39m, in \u001b[36mHTTPAdapter.send\u001b[39m\u001b[34m(self, request, stream, timeout, verify, cert, proxies)\u001b[39m\n\u001b[32m    666\u001b[39m \u001b[38;5;28;01mtry\u001b[39;00m:\n\u001b[32m--> \u001b[39m\u001b[32m667\u001b[39m     resp = \u001b[43mconn\u001b[49m\u001b[43m.\u001b[49m\u001b[43murlopen\u001b[49m\u001b[43m(\u001b[49m\n\u001b[32m    668\u001b[39m \u001b[43m        \u001b[49m\u001b[43mmethod\u001b[49m\u001b[43m=\u001b[49m\u001b[43mrequest\u001b[49m\u001b[43m.\u001b[49m\u001b[43mmethod\u001b[49m\u001b[43m,\u001b[49m\n\u001b[32m    669\u001b[39m \u001b[43m        \u001b[49m\u001b[43murl\u001b[49m\u001b[43m=\u001b[49m\u001b[43murl\u001b[49m\u001b[43m,\u001b[49m\n\u001b[32m    670\u001b[39m \u001b[43m        \u001b[49m\u001b[43mbody\u001b[49m\u001b[43m=\u001b[49m\u001b[43mrequest\u001b[49m\u001b[43m.\u001b[49m\u001b[43mbody\u001b[49m\u001b[43m,\u001b[49m\n\u001b[32m    671\u001b[39m \u001b[43m        \u001b[49m\u001b[43mheaders\u001b[49m\u001b[43m=\u001b[49m\u001b[43mrequest\u001b[49m\u001b[43m.\u001b[49m\u001b[43mheaders\u001b[49m\u001b[43m,\u001b[49m\n\u001b[32m    672\u001b[39m \u001b[43m        \u001b[49m\u001b[43mredirect\u001b[49m\u001b[43m=\u001b[49m\u001b[38;5;28;43;01mFalse\u001b[39;49;00m\u001b[43m,\u001b[49m\n\u001b[32m    673\u001b[39m \u001b[43m        \u001b[49m\u001b[43massert_same_host\u001b[49m\u001b[43m=\u001b[49m\u001b[38;5;28;43;01mFalse\u001b[39;49;00m\u001b[43m,\u001b[49m\n\u001b[32m    674\u001b[39m \u001b[43m        \u001b[49m\u001b[43mpreload_content\u001b[49m\u001b[43m=\u001b[49m\u001b[38;5;28;43;01mFalse\u001b[39;49;00m\u001b[43m,\u001b[49m\n\u001b[32m    675\u001b[39m \u001b[43m        \u001b[49m\u001b[43mdecode_content\u001b[49m\u001b[43m=\u001b[49m\u001b[38;5;28;43;01mFalse\u001b[39;49;00m\u001b[43m,\u001b[49m\n\u001b[32m    676\u001b[39m \u001b[43m        \u001b[49m\u001b[43mretries\u001b[49m\u001b[43m=\u001b[49m\u001b[38;5;28;43mself\u001b[39;49m\u001b[43m.\u001b[49m\u001b[43mmax_retries\u001b[49m\u001b[43m,\u001b[49m\n\u001b[32m    677\u001b[39m \u001b[43m        \u001b[49m\u001b[43mtimeout\u001b[49m\u001b[43m=\u001b[49m\u001b[43mtimeout\u001b[49m\u001b[43m,\u001b[49m\n\u001b[32m    678\u001b[39m \u001b[43m        \u001b[49m\u001b[43mchunked\u001b[49m\u001b[43m=\u001b[49m\u001b[43mchunked\u001b[49m\u001b[43m,\u001b[49m\n\u001b[32m    679\u001b[39m \u001b[43m    \u001b[49m\u001b[43m)\u001b[49m\n\u001b[32m    681\u001b[39m \u001b[38;5;28;01mexcept\u001b[39;00m (ProtocolError, \u001b[38;5;167;01mOSError\u001b[39;00m) \u001b[38;5;28;01mas\u001b[39;00m err:\n",
      "\u001b[36mFile \u001b[39m\u001b[32mc:\\Users\\nikhil\\.conda\\envs\\langgraph\\Lib\\site-packages\\urllib3\\connectionpool.py:841\u001b[39m, in \u001b[36mHTTPConnectionPool.urlopen\u001b[39m\u001b[34m(self, method, url, body, headers, retries, redirect, assert_same_host, timeout, pool_timeout, release_conn, chunked, body_pos, preload_content, decode_content, **response_kw)\u001b[39m\n\u001b[32m    839\u001b[39m     new_e = ProtocolError(\u001b[33m\"\u001b[39m\u001b[33mConnection aborted.\u001b[39m\u001b[33m\"\u001b[39m, new_e)\n\u001b[32m--> \u001b[39m\u001b[32m841\u001b[39m retries = \u001b[43mretries\u001b[49m\u001b[43m.\u001b[49m\u001b[43mincrement\u001b[49m\u001b[43m(\u001b[49m\n\u001b[32m    842\u001b[39m \u001b[43m    \u001b[49m\u001b[43mmethod\u001b[49m\u001b[43m,\u001b[49m\u001b[43m \u001b[49m\u001b[43murl\u001b[49m\u001b[43m,\u001b[49m\u001b[43m \u001b[49m\u001b[43merror\u001b[49m\u001b[43m=\u001b[49m\u001b[43mnew_e\u001b[49m\u001b[43m,\u001b[49m\u001b[43m \u001b[49m\u001b[43m_pool\u001b[49m\u001b[43m=\u001b[49m\u001b[38;5;28;43mself\u001b[39;49m\u001b[43m,\u001b[49m\u001b[43m \u001b[49m\u001b[43m_stacktrace\u001b[49m\u001b[43m=\u001b[49m\u001b[43msys\u001b[49m\u001b[43m.\u001b[49m\u001b[43mexc_info\u001b[49m\u001b[43m(\u001b[49m\u001b[43m)\u001b[49m\u001b[43m[\u001b[49m\u001b[32;43m2\u001b[39;49m\u001b[43m]\u001b[49m\n\u001b[32m    843\u001b[39m \u001b[43m\u001b[49m\u001b[43m)\u001b[49m\n\u001b[32m    844\u001b[39m retries.sleep()\n",
      "\u001b[36mFile \u001b[39m\u001b[32mc:\\Users\\nikhil\\.conda\\envs\\langgraph\\Lib\\site-packages\\urllib3\\util\\retry.py:474\u001b[39m, in \u001b[36mRetry.increment\u001b[39m\u001b[34m(self, method, url, response, error, _pool, _stacktrace)\u001b[39m\n\u001b[32m    473\u001b[39m \u001b[38;5;28;01mif\u001b[39;00m read \u001b[38;5;129;01mis\u001b[39;00m \u001b[38;5;28;01mFalse\u001b[39;00m \u001b[38;5;129;01mor\u001b[39;00m method \u001b[38;5;129;01mis\u001b[39;00m \u001b[38;5;28;01mNone\u001b[39;00m \u001b[38;5;129;01mor\u001b[39;00m \u001b[38;5;129;01mnot\u001b[39;00m \u001b[38;5;28mself\u001b[39m._is_method_retryable(method):\n\u001b[32m--> \u001b[39m\u001b[32m474\u001b[39m     \u001b[38;5;28;01mraise\u001b[39;00m \u001b[43mreraise\u001b[49m\u001b[43m(\u001b[49m\u001b[38;5;28;43mtype\u001b[39;49m\u001b[43m(\u001b[49m\u001b[43merror\u001b[49m\u001b[43m)\u001b[49m\u001b[43m,\u001b[49m\u001b[43m \u001b[49m\u001b[43merror\u001b[49m\u001b[43m,\u001b[49m\u001b[43m \u001b[49m\u001b[43m_stacktrace\u001b[49m\u001b[43m)\u001b[49m\n\u001b[32m    475\u001b[39m \u001b[38;5;28;01melif\u001b[39;00m read \u001b[38;5;129;01mis\u001b[39;00m \u001b[38;5;129;01mnot\u001b[39;00m \u001b[38;5;28;01mNone\u001b[39;00m:\n",
      "\u001b[36mFile \u001b[39m\u001b[32mc:\\Users\\nikhil\\.conda\\envs\\langgraph\\Lib\\site-packages\\urllib3\\util\\util.py:39\u001b[39m, in \u001b[36mreraise\u001b[39m\u001b[34m(tp, value, tb)\u001b[39m\n\u001b[32m     38\u001b[39m         \u001b[38;5;28;01mraise\u001b[39;00m value.with_traceback(tb)\n\u001b[32m---> \u001b[39m\u001b[32m39\u001b[39m     \u001b[38;5;28;01mraise\u001b[39;00m value\n\u001b[32m     40\u001b[39m \u001b[38;5;28;01mfinally\u001b[39;00m:\n",
      "\u001b[36mFile \u001b[39m\u001b[32mc:\\Users\\nikhil\\.conda\\envs\\langgraph\\Lib\\site-packages\\urllib3\\connectionpool.py:787\u001b[39m, in \u001b[36mHTTPConnectionPool.urlopen\u001b[39m\u001b[34m(self, method, url, body, headers, retries, redirect, assert_same_host, timeout, pool_timeout, release_conn, chunked, body_pos, preload_content, decode_content, **response_kw)\u001b[39m\n\u001b[32m    786\u001b[39m \u001b[38;5;66;03m# Make the request on the HTTPConnection object\u001b[39;00m\n\u001b[32m--> \u001b[39m\u001b[32m787\u001b[39m response = \u001b[38;5;28;43mself\u001b[39;49m\u001b[43m.\u001b[49m\u001b[43m_make_request\u001b[49m\u001b[43m(\u001b[49m\n\u001b[32m    788\u001b[39m \u001b[43m    \u001b[49m\u001b[43mconn\u001b[49m\u001b[43m,\u001b[49m\n\u001b[32m    789\u001b[39m \u001b[43m    \u001b[49m\u001b[43mmethod\u001b[49m\u001b[43m,\u001b[49m\n\u001b[32m    790\u001b[39m \u001b[43m    \u001b[49m\u001b[43murl\u001b[49m\u001b[43m,\u001b[49m\n\u001b[32m    791\u001b[39m \u001b[43m    \u001b[49m\u001b[43mtimeout\u001b[49m\u001b[43m=\u001b[49m\u001b[43mtimeout_obj\u001b[49m\u001b[43m,\u001b[49m\n\u001b[32m    792\u001b[39m \u001b[43m    \u001b[49m\u001b[43mbody\u001b[49m\u001b[43m=\u001b[49m\u001b[43mbody\u001b[49m\u001b[43m,\u001b[49m\n\u001b[32m    793\u001b[39m \u001b[43m    \u001b[49m\u001b[43mheaders\u001b[49m\u001b[43m=\u001b[49m\u001b[43mheaders\u001b[49m\u001b[43m,\u001b[49m\n\u001b[32m    794\u001b[39m \u001b[43m    \u001b[49m\u001b[43mchunked\u001b[49m\u001b[43m=\u001b[49m\u001b[43mchunked\u001b[49m\u001b[43m,\u001b[49m\n\u001b[32m    795\u001b[39m \u001b[43m    \u001b[49m\u001b[43mretries\u001b[49m\u001b[43m=\u001b[49m\u001b[43mretries\u001b[49m\u001b[43m,\u001b[49m\n\u001b[32m    796\u001b[39m \u001b[43m    \u001b[49m\u001b[43mresponse_conn\u001b[49m\u001b[43m=\u001b[49m\u001b[43mresponse_conn\u001b[49m\u001b[43m,\u001b[49m\n\u001b[32m    797\u001b[39m \u001b[43m    \u001b[49m\u001b[43mpreload_content\u001b[49m\u001b[43m=\u001b[49m\u001b[43mpreload_content\u001b[49m\u001b[43m,\u001b[49m\n\u001b[32m    798\u001b[39m \u001b[43m    \u001b[49m\u001b[43mdecode_content\u001b[49m\u001b[43m=\u001b[49m\u001b[43mdecode_content\u001b[49m\u001b[43m,\u001b[49m\n\u001b[32m    799\u001b[39m \u001b[43m    \u001b[49m\u001b[43m*\u001b[49m\u001b[43m*\u001b[49m\u001b[43mresponse_kw\u001b[49m\u001b[43m,\u001b[49m\n\u001b[32m    800\u001b[39m \u001b[43m\u001b[49m\u001b[43m)\u001b[49m\n\u001b[32m    802\u001b[39m \u001b[38;5;66;03m# Everything went great!\u001b[39;00m\n",
      "\u001b[36mFile \u001b[39m\u001b[32mc:\\Users\\nikhil\\.conda\\envs\\langgraph\\Lib\\site-packages\\urllib3\\connectionpool.py:536\u001b[39m, in \u001b[36mHTTPConnectionPool._make_request\u001b[39m\u001b[34m(self, conn, method, url, body, headers, retries, timeout, chunked, response_conn, preload_content, decode_content, enforce_content_length)\u001b[39m\n\u001b[32m    535\u001b[39m \u001b[38;5;28;01mexcept\u001b[39;00m (BaseSSLError, \u001b[38;5;167;01mOSError\u001b[39;00m) \u001b[38;5;28;01mas\u001b[39;00m e:\n\u001b[32m--> \u001b[39m\u001b[32m536\u001b[39m     \u001b[38;5;28;43mself\u001b[39;49m\u001b[43m.\u001b[49m\u001b[43m_raise_timeout\u001b[49m\u001b[43m(\u001b[49m\u001b[43merr\u001b[49m\u001b[43m=\u001b[49m\u001b[43me\u001b[49m\u001b[43m,\u001b[49m\u001b[43m \u001b[49m\u001b[43murl\u001b[49m\u001b[43m=\u001b[49m\u001b[43murl\u001b[49m\u001b[43m,\u001b[49m\u001b[43m \u001b[49m\u001b[43mtimeout_value\u001b[49m\u001b[43m=\u001b[49m\u001b[43mread_timeout\u001b[49m\u001b[43m)\u001b[49m\n\u001b[32m    537\u001b[39m     \u001b[38;5;28;01mraise\u001b[39;00m\n",
      "\u001b[36mFile \u001b[39m\u001b[32mc:\\Users\\nikhil\\.conda\\envs\\langgraph\\Lib\\site-packages\\urllib3\\connectionpool.py:367\u001b[39m, in \u001b[36mHTTPConnectionPool._raise_timeout\u001b[39m\u001b[34m(self, err, url, timeout_value)\u001b[39m\n\u001b[32m    366\u001b[39m \u001b[38;5;28;01mif\u001b[39;00m \u001b[38;5;28misinstance\u001b[39m(err, SocketTimeout):\n\u001b[32m--> \u001b[39m\u001b[32m367\u001b[39m     \u001b[38;5;28;01mraise\u001b[39;00m ReadTimeoutError(\n\u001b[32m    368\u001b[39m         \u001b[38;5;28mself\u001b[39m, url, \u001b[33mf\u001b[39m\u001b[33m\"\u001b[39m\u001b[33mRead timed out. (read timeout=\u001b[39m\u001b[38;5;132;01m{\u001b[39;00mtimeout_value\u001b[38;5;132;01m}\u001b[39;00m\u001b[33m)\u001b[39m\u001b[33m\"\u001b[39m\n\u001b[32m    369\u001b[39m     ) \u001b[38;5;28;01mfrom\u001b[39;00m\u001b[38;5;250m \u001b[39m\u001b[34;01merr\u001b[39;00m\n\u001b[32m    371\u001b[39m \u001b[38;5;66;03m# See the above comment about EAGAIN in Python 3.\u001b[39;00m\n",
      "\u001b[31mReadTimeoutError\u001b[39m: HTTPSConnectionPool(host='mermaid.ink', port=443): Read timed out. (read timeout=10)",
      "\nDuring handling of the above exception, another exception occurred:\n",
      "\u001b[31mReadTimeout\u001b[39m                               Traceback (most recent call last)",
      "\u001b[36mCell\u001b[39m\u001b[36m \u001b[39m\u001b[32mIn[65]\u001b[39m\u001b[32m, line 2\u001b[39m\n\u001b[32m      1\u001b[39m \u001b[38;5;28;01mfrom\u001b[39;00m\u001b[38;5;250m \u001b[39m\u001b[34;01mIPython\u001b[39;00m\u001b[34;01m.\u001b[39;00m\u001b[34;01mdisplay\u001b[39;00m\u001b[38;5;250m \u001b[39m\u001b[38;5;28;01mimport\u001b[39;00m Image, display\n\u001b[32m----> \u001b[39m\u001b[32m2\u001b[39m display(Image(\u001b[43magent\u001b[49m\u001b[43m.\u001b[49m\u001b[43mget_graph\u001b[49m\u001b[43m(\u001b[49m\u001b[43m)\u001b[49m\u001b[43m.\u001b[49m\u001b[43mdraw_mermaid_png\u001b[49m\u001b[43m(\u001b[49m\u001b[43m)\u001b[49m))\n",
      "\u001b[36mFile \u001b[39m\u001b[32mc:\\Users\\nikhil\\.conda\\envs\\langgraph\\Lib\\site-packages\\langchain_core\\runnables\\graph.py:677\u001b[39m, in \u001b[36mGraph.draw_mermaid_png\u001b[39m\u001b[34m(self, curve_style, node_colors, wrap_label_n_words, output_file_path, draw_method, background_color, padding, frontmatter_config)\u001b[39m\n\u001b[32m    669\u001b[39m \u001b[38;5;28;01mfrom\u001b[39;00m\u001b[38;5;250m \u001b[39m\u001b[34;01mlangchain_core\u001b[39;00m\u001b[34;01m.\u001b[39;00m\u001b[34;01mrunnables\u001b[39;00m\u001b[34;01m.\u001b[39;00m\u001b[34;01mgraph_mermaid\u001b[39;00m\u001b[38;5;250m \u001b[39m\u001b[38;5;28;01mimport\u001b[39;00m draw_mermaid_png\n\u001b[32m    671\u001b[39m mermaid_syntax = \u001b[38;5;28mself\u001b[39m.draw_mermaid(\n\u001b[32m    672\u001b[39m     curve_style=curve_style,\n\u001b[32m    673\u001b[39m     node_colors=node_colors,\n\u001b[32m    674\u001b[39m     wrap_label_n_words=wrap_label_n_words,\n\u001b[32m    675\u001b[39m     frontmatter_config=frontmatter_config,\n\u001b[32m    676\u001b[39m )\n\u001b[32m--> \u001b[39m\u001b[32m677\u001b[39m \u001b[38;5;28;01mreturn\u001b[39;00m \u001b[43mdraw_mermaid_png\u001b[49m\u001b[43m(\u001b[49m\n\u001b[32m    678\u001b[39m \u001b[43m    \u001b[49m\u001b[43mmermaid_syntax\u001b[49m\u001b[43m=\u001b[49m\u001b[43mmermaid_syntax\u001b[49m\u001b[43m,\u001b[49m\n\u001b[32m    679\u001b[39m \u001b[43m    \u001b[49m\u001b[43moutput_file_path\u001b[49m\u001b[43m=\u001b[49m\u001b[43moutput_file_path\u001b[49m\u001b[43m,\u001b[49m\n\u001b[32m    680\u001b[39m \u001b[43m    \u001b[49m\u001b[43mdraw_method\u001b[49m\u001b[43m=\u001b[49m\u001b[43mdraw_method\u001b[49m\u001b[43m,\u001b[49m\n\u001b[32m    681\u001b[39m \u001b[43m    \u001b[49m\u001b[43mbackground_color\u001b[49m\u001b[43m=\u001b[49m\u001b[43mbackground_color\u001b[49m\u001b[43m,\u001b[49m\n\u001b[32m    682\u001b[39m \u001b[43m    \u001b[49m\u001b[43mpadding\u001b[49m\u001b[43m=\u001b[49m\u001b[43mpadding\u001b[49m\u001b[43m,\u001b[49m\n\u001b[32m    683\u001b[39m \u001b[43m\u001b[49m\u001b[43m)\u001b[49m\n",
      "\u001b[36mFile \u001b[39m\u001b[32mc:\\Users\\nikhil\\.conda\\envs\\langgraph\\Lib\\site-packages\\langchain_core\\runnables\\graph_mermaid.py:285\u001b[39m, in \u001b[36mdraw_mermaid_png\u001b[39m\u001b[34m(mermaid_syntax, output_file_path, draw_method, background_color, padding)\u001b[39m\n\u001b[32m    279\u001b[39m     img_bytes = asyncio.run(\n\u001b[32m    280\u001b[39m         _render_mermaid_using_pyppeteer(\n\u001b[32m    281\u001b[39m             mermaid_syntax, output_file_path, background_color, padding\n\u001b[32m    282\u001b[39m         )\n\u001b[32m    283\u001b[39m     )\n\u001b[32m    284\u001b[39m \u001b[38;5;28;01melif\u001b[39;00m draw_method == MermaidDrawMethod.API:\n\u001b[32m--> \u001b[39m\u001b[32m285\u001b[39m     img_bytes = \u001b[43m_render_mermaid_using_api\u001b[49m\u001b[43m(\u001b[49m\n\u001b[32m    286\u001b[39m \u001b[43m        \u001b[49m\u001b[43mmermaid_syntax\u001b[49m\u001b[43m,\u001b[49m\u001b[43m \u001b[49m\u001b[43moutput_file_path\u001b[49m\u001b[43m,\u001b[49m\u001b[43m \u001b[49m\u001b[43mbackground_color\u001b[49m\n\u001b[32m    287\u001b[39m \u001b[43m    \u001b[49m\u001b[43m)\u001b[49m\n\u001b[32m    288\u001b[39m \u001b[38;5;28;01melse\u001b[39;00m:\n\u001b[32m    289\u001b[39m     supported_methods = \u001b[33m\"\u001b[39m\u001b[33m, \u001b[39m\u001b[33m\"\u001b[39m.join([m.value \u001b[38;5;28;01mfor\u001b[39;00m m \u001b[38;5;129;01min\u001b[39;00m MermaidDrawMethod])\n",
      "\u001b[36mFile \u001b[39m\u001b[32mc:\\Users\\nikhil\\.conda\\envs\\langgraph\\Lib\\site-packages\\langchain_core\\runnables\\graph_mermaid.py:403\u001b[39m, in \u001b[36m_render_mermaid_using_api\u001b[39m\u001b[34m(mermaid_syntax, output_file_path, background_color, file_type)\u001b[39m\n\u001b[32m    397\u001b[39m         background_color = \u001b[33mf\u001b[39m\u001b[33m\"\u001b[39m\u001b[33m!\u001b[39m\u001b[38;5;132;01m{\u001b[39;00mbackground_color\u001b[38;5;132;01m}\u001b[39;00m\u001b[33m\"\u001b[39m\n\u001b[32m    399\u001b[39m image_url = (\n\u001b[32m    400\u001b[39m     \u001b[33mf\u001b[39m\u001b[33m\"\u001b[39m\u001b[33mhttps://mermaid.ink/img/\u001b[39m\u001b[38;5;132;01m{\u001b[39;00mmermaid_syntax_encoded\u001b[38;5;132;01m}\u001b[39;00m\u001b[33m\"\u001b[39m\n\u001b[32m    401\u001b[39m     \u001b[33mf\u001b[39m\u001b[33m\"\u001b[39m\u001b[33m?type=\u001b[39m\u001b[38;5;132;01m{\u001b[39;00mfile_type\u001b[38;5;132;01m}\u001b[39;00m\u001b[33m&bgColor=\u001b[39m\u001b[38;5;132;01m{\u001b[39;00mbackground_color\u001b[38;5;132;01m}\u001b[39;00m\u001b[33m\"\u001b[39m\n\u001b[32m    402\u001b[39m )\n\u001b[32m--> \u001b[39m\u001b[32m403\u001b[39m response = \u001b[43mrequests\u001b[49m\u001b[43m.\u001b[49m\u001b[43mget\u001b[49m\u001b[43m(\u001b[49m\u001b[43mimage_url\u001b[49m\u001b[43m,\u001b[49m\u001b[43m \u001b[49m\u001b[43mtimeout\u001b[49m\u001b[43m=\u001b[49m\u001b[32;43m10\u001b[39;49m\u001b[43m)\u001b[49m\n\u001b[32m    404\u001b[39m \u001b[38;5;28;01mif\u001b[39;00m response.status_code == requests.codes.ok:\n\u001b[32m    405\u001b[39m     img_bytes = response.content\n",
      "\u001b[36mFile \u001b[39m\u001b[32mc:\\Users\\nikhil\\.conda\\envs\\langgraph\\Lib\\site-packages\\requests\\api.py:73\u001b[39m, in \u001b[36mget\u001b[39m\u001b[34m(url, params, **kwargs)\u001b[39m\n\u001b[32m     62\u001b[39m \u001b[38;5;28;01mdef\u001b[39;00m\u001b[38;5;250m \u001b[39m\u001b[34mget\u001b[39m(url, params=\u001b[38;5;28;01mNone\u001b[39;00m, **kwargs):\n\u001b[32m     63\u001b[39m \u001b[38;5;250m    \u001b[39m\u001b[33mr\u001b[39m\u001b[33;03m\"\"\"Sends a GET request.\u001b[39;00m\n\u001b[32m     64\u001b[39m \n\u001b[32m     65\u001b[39m \u001b[33;03m    :param url: URL for the new :class:`Request` object.\u001b[39;00m\n\u001b[32m   (...)\u001b[39m\u001b[32m     70\u001b[39m \u001b[33;03m    :rtype: requests.Response\u001b[39;00m\n\u001b[32m     71\u001b[39m \u001b[33;03m    \"\"\"\u001b[39;00m\n\u001b[32m---> \u001b[39m\u001b[32m73\u001b[39m     \u001b[38;5;28;01mreturn\u001b[39;00m \u001b[43mrequest\u001b[49m\u001b[43m(\u001b[49m\u001b[33;43m\"\u001b[39;49m\u001b[33;43mget\u001b[39;49m\u001b[33;43m\"\u001b[39;49m\u001b[43m,\u001b[49m\u001b[43m \u001b[49m\u001b[43murl\u001b[49m\u001b[43m,\u001b[49m\u001b[43m \u001b[49m\u001b[43mparams\u001b[49m\u001b[43m=\u001b[49m\u001b[43mparams\u001b[49m\u001b[43m,\u001b[49m\u001b[43m \u001b[49m\u001b[43m*\u001b[49m\u001b[43m*\u001b[49m\u001b[43mkwargs\u001b[49m\u001b[43m)\u001b[49m\n",
      "\u001b[36mFile \u001b[39m\u001b[32mc:\\Users\\nikhil\\.conda\\envs\\langgraph\\Lib\\site-packages\\requests\\api.py:59\u001b[39m, in \u001b[36mrequest\u001b[39m\u001b[34m(method, url, **kwargs)\u001b[39m\n\u001b[32m     55\u001b[39m \u001b[38;5;66;03m# By using the 'with' statement we are sure the session is closed, thus we\u001b[39;00m\n\u001b[32m     56\u001b[39m \u001b[38;5;66;03m# avoid leaving sockets open which can trigger a ResourceWarning in some\u001b[39;00m\n\u001b[32m     57\u001b[39m \u001b[38;5;66;03m# cases, and look like a memory leak in others.\u001b[39;00m\n\u001b[32m     58\u001b[39m \u001b[38;5;28;01mwith\u001b[39;00m sessions.Session() \u001b[38;5;28;01mas\u001b[39;00m session:\n\u001b[32m---> \u001b[39m\u001b[32m59\u001b[39m     \u001b[38;5;28;01mreturn\u001b[39;00m \u001b[43msession\u001b[49m\u001b[43m.\u001b[49m\u001b[43mrequest\u001b[49m\u001b[43m(\u001b[49m\u001b[43mmethod\u001b[49m\u001b[43m=\u001b[49m\u001b[43mmethod\u001b[49m\u001b[43m,\u001b[49m\u001b[43m \u001b[49m\u001b[43murl\u001b[49m\u001b[43m=\u001b[49m\u001b[43murl\u001b[49m\u001b[43m,\u001b[49m\u001b[43m \u001b[49m\u001b[43m*\u001b[49m\u001b[43m*\u001b[49m\u001b[43mkwargs\u001b[49m\u001b[43m)\u001b[49m\n",
      "\u001b[36mFile \u001b[39m\u001b[32mc:\\Users\\nikhil\\.conda\\envs\\langgraph\\Lib\\site-packages\\requests\\sessions.py:589\u001b[39m, in \u001b[36mSession.request\u001b[39m\u001b[34m(self, method, url, params, data, headers, cookies, files, auth, timeout, allow_redirects, proxies, hooks, stream, verify, cert, json)\u001b[39m\n\u001b[32m    584\u001b[39m send_kwargs = {\n\u001b[32m    585\u001b[39m     \u001b[33m\"\u001b[39m\u001b[33mtimeout\u001b[39m\u001b[33m\"\u001b[39m: timeout,\n\u001b[32m    586\u001b[39m     \u001b[33m\"\u001b[39m\u001b[33mallow_redirects\u001b[39m\u001b[33m\"\u001b[39m: allow_redirects,\n\u001b[32m    587\u001b[39m }\n\u001b[32m    588\u001b[39m send_kwargs.update(settings)\n\u001b[32m--> \u001b[39m\u001b[32m589\u001b[39m resp = \u001b[38;5;28;43mself\u001b[39;49m\u001b[43m.\u001b[49m\u001b[43msend\u001b[49m\u001b[43m(\u001b[49m\u001b[43mprep\u001b[49m\u001b[43m,\u001b[49m\u001b[43m \u001b[49m\u001b[43m*\u001b[49m\u001b[43m*\u001b[49m\u001b[43msend_kwargs\u001b[49m\u001b[43m)\u001b[49m\n\u001b[32m    591\u001b[39m \u001b[38;5;28;01mreturn\u001b[39;00m resp\n",
      "\u001b[36mFile \u001b[39m\u001b[32mc:\\Users\\nikhil\\.conda\\envs\\langgraph\\Lib\\site-packages\\requests\\sessions.py:703\u001b[39m, in \u001b[36mSession.send\u001b[39m\u001b[34m(self, request, **kwargs)\u001b[39m\n\u001b[32m    700\u001b[39m start = preferred_clock()\n\u001b[32m    702\u001b[39m \u001b[38;5;66;03m# Send the request\u001b[39;00m\n\u001b[32m--> \u001b[39m\u001b[32m703\u001b[39m r = \u001b[43madapter\u001b[49m\u001b[43m.\u001b[49m\u001b[43msend\u001b[49m\u001b[43m(\u001b[49m\u001b[43mrequest\u001b[49m\u001b[43m,\u001b[49m\u001b[43m \u001b[49m\u001b[43m*\u001b[49m\u001b[43m*\u001b[49m\u001b[43mkwargs\u001b[49m\u001b[43m)\u001b[49m\n\u001b[32m    705\u001b[39m \u001b[38;5;66;03m# Total elapsed time of the request (approximately)\u001b[39;00m\n\u001b[32m    706\u001b[39m elapsed = preferred_clock() - start\n",
      "\u001b[36mFile \u001b[39m\u001b[32mc:\\Users\\nikhil\\.conda\\envs\\langgraph\\Lib\\site-packages\\requests\\adapters.py:713\u001b[39m, in \u001b[36mHTTPAdapter.send\u001b[39m\u001b[34m(self, request, stream, timeout, verify, cert, proxies)\u001b[39m\n\u001b[32m    711\u001b[39m     \u001b[38;5;28;01mraise\u001b[39;00m SSLError(e, request=request)\n\u001b[32m    712\u001b[39m \u001b[38;5;28;01melif\u001b[39;00m \u001b[38;5;28misinstance\u001b[39m(e, ReadTimeoutError):\n\u001b[32m--> \u001b[39m\u001b[32m713\u001b[39m     \u001b[38;5;28;01mraise\u001b[39;00m ReadTimeout(e, request=request)\n\u001b[32m    714\u001b[39m \u001b[38;5;28;01melif\u001b[39;00m \u001b[38;5;28misinstance\u001b[39m(e, _InvalidHeader):\n\u001b[32m    715\u001b[39m     \u001b[38;5;28;01mraise\u001b[39;00m InvalidHeader(e, request=request)\n",
      "\u001b[31mReadTimeout\u001b[39m: HTTPSConnectionPool(host='mermaid.ink', port=443): Read timed out. (read timeout=10)"
     ]
    }
   ],
   "source": [
    "from IPython.display import Image, display\n",
    "display(Image(agent.get_graph().draw_mermaid_png()))"
   ]
  },
  {
   "cell_type": "code",
   "execution_count": 66,
   "id": "702aea66",
   "metadata": {},
   "outputs": [
    {
     "name": "stdout",
     "output_type": "stream",
     "text": [
      "================================\u001b[1m Human Message \u001b[0m=================================\n",
      "\n",
      "explain the terrif war between the China and the America\n",
      "==================================\u001b[1m Ai Message \u001b[0m==================================\n",
      "Tool Calls:\n",
      "  tavily_search_results_json (call_jvng)\n",
      " Call ID: call_jvng\n",
      "  Args:\n",
      "    query: US-China trade war current status and key issues\n",
      "=================================\u001b[1m Tool Message \u001b[0m=================================\n",
      "Name: tavily_search_results_json\n",
      "\n",
      "[{\"title\": \"China–United States trade war - Wikipedia\", \"url\": \"https://en.wikipedia.org/wiki/China%E2%80%93United_States_trade_war\", \"content\": \"An economic conflict between China and the United States has been ongoing since January 2018, when U.S. President Donald Trump began setting tariffs and other trade barriers on China with the goal of forcing it to make changes to what the U.S. says are longstanding unfair trade practices and intellectual property theft.[1] The first Trump administration stated that these practices may contribute to the U.S.–China trade deficit, and that the Chinese government requires transfer of American [...] technology to China.[2] In response to US trade measures, CCP General Secretary Xi Jinping's administration accused the Trump administration of engaging in nationalist protectionism and took retaliatory action.[3][4] After the trade war escalated through 2019, in January 2020 the two sides reached a tense phase-one agreement.[5][6][7] By the end of Trump's first presidency, the trade war was widely characterized by American media outlets as a failure for the United States.[8][9] [...] In August 2017, Robert Lighthizer investigated China's alleged unfair trade practices.[53][54][55]\\n\\nInitiating steel and aluminium tariff actions in March 2018, Trump said \\\"trade wars are good, and easy to win,\\\"[56] but as the conflict continued to escalate through August 2019, Trump stated, \\\"I never said China was going to be easy.\\\"[57][58]\", \"score\": 0.62879556}, {\"title\": \"Analyzing the Impact of the U.S.-China Trade War on China's ... - CSIS\", \"url\": \"https://www.csis.org/analysis/analyzing-impact-us-china-trade-war-chinas-energy-transition\", \"content\": \"The United States and China are locked into an escalating trade war with broad implications for U.S.-China relations, the global economy, supply chains, and global governance. After several rounds of retaliation, both sides have put in place extensive tariffs that jeopardize bilateral trade, and China has introduced new export controls on critical minerals, including certain rare earth metals, among other things. The trade war could impact China’s and the world’s clean energy transition. China,\", \"score\": 0.5973971}, {\"title\": \"The Contentious U.S.-China Trade Relationship\", \"url\": \"https://www.cfr.org/backgrounder/contentious-us-china-trade-relationship\", \"content\": \"More on:\\n\\nTrade\\n\\nUnited States\\n\\nChina\\n\\nWorld Trade Organization (WTO)\\n\\nAfter President Donald Trump began a so-called trade war with China in 2018, economic tensions between Washington and Beijing have been on the rise. Chinese officials have warned that there are “no winners” in a trade or tariff war, although President Joe Biden continued many of Trump’s policies.\\n\\nDaily News Brief\\n\\nThe World This Week [...] The trade war that started in 2018 resulted in both countries experiencing economic pains; U.S. economic growth slowed, the trade deficit continued to grow, and studies found that U.S. companies primarily bore the cost of the tariffs. CFR Fellow for Trade Policy Inu Manak says these tariffs largely fail to divert trade away from China in a global economy. As China moves production to other parts of the world, the United States eventually purchases Chinese goods from other trade partners, such [...] Labor and human rights violations. The United States has long been critical of China on human rights issues, and U.S. labor groups have persistently complained about poor working conditions in China. These concerns have resurfaced on the trade agenda in recent years with reports of forced labor in Xinjiang, where China is repressing millions of Uyghurs. Beijing’s 2020 national security law, which fundamentally altered Hong Kong’s freedoms, is another source of tension; experts say the law could\", \"score\": 0.59061456}, {\"title\": \"Analysis: The US-China trade escalation has no end in sight ... - CNN\", \"url\": \"https://www.cnn.com/2025/04/10/business/us-trade-war-china-escalation-analysis-intl-hnk/index.html\", \"content\": \"China has also built out its supply chains for rare earths and other critical minerals, upgraded its manufacturing technology with AI and humanoid robots and ramped up its advanced technology capabilities, including semiconductors. Since last year, the government has also worked, with varying success, to address issues like weak consumption and high local government debt. [...] Regardless, Trump, who the White House described earlier this week as having a “spine of steel,” and Xi now appear locked in a war of attrition with the potential to upset a lopsided but highly integrated trade relationship worth roughly half a trillion dollars. [...] CNN values your feedback\\n\\nMarkets\\n\\nHot Stocks\\n\\nFear & Greed Index\\n\\nLatest Market News\\n\\nHot Stocks\\n\\nThe US-China trade escalation has no end in sight. Here’s why Beijing’s not backing down\\n\\nFollow:\\n\\nWhat was supposed to be a historic, era-defining trade war launched by US President Donald Trump against a range of countries has, for now, narrowed in on a singular target: China.\", \"score\": 0.5863576}, {\"title\": \"US-China trade war: Latest News and Updates\", \"url\": \"https://www.scmp.com/topics/us-china-trade-war\", \"content\": \"US-China trade war\\n\\nChina invites European countries to form united front against Trump tariffs\\n\\nChinese Foreign Minister Wang Yi calls on EU, Britain to work with Beijing and defend the multilateral trading system.\\n\\nTesla’s robot project faces ‘magnet issue’ after China’s rare earth curbs\\n\\n‘He’s panicking’: Trump’s tariff comments put China in control, analysts say\\n\\n‘Disgrace’: Beijing’s top office overseeing Hong Kong slams US tariffs, sanctions [...] Negotiations with Beijing have yet to start, Scott Bessent adds, voicing belief in a possible deal as markets surge on report.\\n\\nHong Kong shipping sector can navigate effects of US port fees, industry says\\n\\nUS plans to introduce a phased fee structure targeting Chinese vessel operators, owners and ships built in the country.\\n\\nUS opposition to Trump has mobilised, but is it enough to slow his agenda down? [...] Tariffs won’t shrink the inequalities in US society that result from globalisation. A better safety net, starting with healthcare, would.\\n\\nChina’s critical metal exports plummet as trade war curbs take effect\\n\\nShipments of several critical minerals have halted entirely, putting the US tech sector under pressure.\\n\\nTrump tariffs are keeping Malaysia on edge. What new markets is it eyeing?\", \"score\": 0.5852203}]\n",
      "==================================\u001b[1m Ai Message \u001b[0m==================================\n",
      "\n",
      "The U.S.-China trade war, which began in 2018, is a complex, ongoing economic and geopolitical conflict rooted in disputes over trade imbalances, intellectual property theft, forced technology transfers, and China's industrial policies. Here's a concise explanation:\n",
      "\n",
      "### **Origins (2018–2019):**\n",
      "- **Triggers:** U.S. President Donald Trump accused China of unfair trade practices, including subsidizing state-owned enterprises, stealing intellectual property, and pressuring foreign companies to hand over technology via joint ventures.\n",
      "- **Actions:** The U.S. imposed tariffs on over $360 billion in Chinese imports (steel, electronics, consumer goods), while China retaliated with tariffs on $110 billion of U.S. goods (soybeans, aircraft). This sparked a cycle of \"tit-for-tat\" trade restrictions.\n",
      "\n",
      "### **Key Issues:**\n",
      "1. **Economic Disputes:**  \n",
      "   - The U.S. sought to reduce its massive bilateral trade deficit (~$300 billion annually).  \n",
      "   - China’s \"Made in China 2025\" industrial plan was criticized for aiming to dominate high-tech sectors like semiconductors and AI through state subsidies.  \n",
      "\n",
      "2. **Technology Competition:**  \n",
      "   - The U.S. restricted tech exports to Chinese firms (e.g., Huawei’s access to U.S. tech and semiconductor supplies).  \n",
      "   - Concerns over Chinese tech dominance in 5G, AI, and artificial intelligence.  \n",
      "\n",
      "3. **Geopolitical Tensions:**  \n",
      "   - U.S. alliances (e.g., QUAD, Indo-Pacific partnerships) and export controls (e.g., the Entity List) to counter China’s military-civil fusion.  \n",
      "   - Human rights issues (e.g., Xinjiang, Hong Kong) added friction under Biden.  \n",
      "\n",
      "### **Phase One Agreement (January 2020):**\n",
      "- A partial truce under Trump and Xi Jinping:  \n",
      "  - China agreed to buy more U.S. goods (agriculture, energy).  \n",
      "  - The U.S. slightly reduced tariffs but kept most in place.  \n",
      "- However, core issues like IP theft and industrial subsidies remained unresolved.\n",
      "\n",
      "### **Under Biden (2021–Present):**\n",
      "- **Continued Tariffs:** Most Trump-era tariffs remain, though some exemptions apply.  \n",
      "- **Tech Restrictions:** Stricter controls on semiconductor exports to China (e.g., advanced chips for AI and military tech).  \n",
      "- **Decoupling Efforts:** The U.S. is encouraging companies to diversify supply chains away from China.  \n",
      "- **New Conflicts:** Escalation over rare earth minerals, Taiwan’s tech dominance, and AI competition.  \n",
      "\n",
      "### **Current Status (2023–2024):**\n",
      "- **Ongoing Tariffs:** U.S. tariffs on Chinese goods remain, hurting some U.S. businesses and consumers.  \n",
      "- **Supply Chain Shifts:** Companies are diversifying production to countries like Vietnam and India, but full decoupling is unlikely due to interdependence.  \n",
      "- **Technology Rivalry:** Both nations are investing in AI, semiconductors, and green energy tech, creating a \"tech cold war.\"  \n",
      "- **Human Rights and Politics:** The U.S. has sanctioned Chinese officials over human rights abuses, deepening distrust.  \n",
      "\n",
      "### **Key Challenges:**\n",
      "- **Economic Impact:** Global supply chains were disrupted, and both economies faced inflation and market volatility.  \n",
      "- **No Clear Winner:** Studies suggest tariffs cost U.S. jobs and raised consumer prices, while China’s economy slowed but diversified its trade partners.  \n",
      "- **Geopolitical Spillover:** The conflict has reshaped global trade dynamics, with other nations (e.g., EU) caught in the crossfire.  \n",
      "\n",
      "### **Future Outlook:**\n",
      "- **Stalemate Likely:** Both nations see the conflict as strategic, not temporary. The U.S. aims to curb China’s rise, while Beijing resists external pressure.  \n",
      "- **Areas of Conflict:**  \n",
      "  - **Technology:** U.S. export bans and investment restrictions.  \n",
      "  - **Global Influence:** Competing visions for tech standards (e.g., 5G, AI) and regional trade deals (e.g., Indo-Pacific partnerships vs. Belt and Road).  \n",
      "  - **Climate and Energy:** Collaboration on climate is rare, though energy interdependence persists (e.g., rare earth minerals, oil).  \n",
      "\n",
      "### **Why It Matters:**\n",
      "This isn’t just about trade—it’s a clash over economic models, technological supremacy, and global influence. While direct military conflict is unlikely, the rivalry will shape the 21st-century global order, affecting supply chains, innovation, and diplomacy worldwide.\n"
     ]
    }
   ],
   "source": [
    "messages = agent.invoke({\"messages\":HumanMessage(content=\"explain the terrif war between the China and the America\")})\n",
    "for m in messages['messages']:\n",
    "    m.pretty_print()"
   ]
  },
  {
   "cell_type": "code",
   "execution_count": 67,
   "id": "4bc3841f",
   "metadata": {},
   "outputs": [
    {
     "name": "stdout",
     "output_type": "stream",
     "text": [
      "==================================\u001b[1m Ai Message \u001b[0m==================================\n",
      "\n",
      "The U.S.-China trade war, which began in 2018, is a complex, ongoing economic and geopolitical conflict rooted in disputes over trade imbalances, intellectual property theft, forced technology transfers, and China's industrial policies. Here's a concise explanation:\n",
      "\n",
      "### **Origins (2018–2019):**\n",
      "- **Triggers:** U.S. President Donald Trump accused China of unfair trade practices, including subsidizing state-owned enterprises, stealing intellectual property, and pressuring foreign companies to hand over technology via joint ventures.\n",
      "- **Actions:** The U.S. imposed tariffs on over $360 billion in Chinese imports (steel, electronics, consumer goods), while China retaliated with tariffs on $110 billion of U.S. goods (soybeans, aircraft). This sparked a cycle of \"tit-for-tat\" trade restrictions.\n",
      "\n",
      "### **Key Issues:**\n",
      "1. **Economic Disputes:**  \n",
      "   - The U.S. sought to reduce its massive bilateral trade deficit (~$300 billion annually).  \n",
      "   - China’s \"Made in China 2025\" industrial plan was criticized for aiming to dominate high-tech sectors like semiconductors and AI through state subsidies.  \n",
      "\n",
      "2. **Technology Competition:**  \n",
      "   - The U.S. restricted tech exports to Chinese firms (e.g., Huawei’s access to U.S. tech and semiconductor supplies).  \n",
      "   - Concerns over Chinese tech dominance in 5G, AI, and artificial intelligence.  \n",
      "\n",
      "3. **Geopolitical Tensions:**  \n",
      "   - U.S. alliances (e.g., QUAD, Indo-Pacific partnerships) and export controls (e.g., the Entity List) to counter China’s military-civil fusion.  \n",
      "   - Human rights issues (e.g., Xinjiang, Hong Kong) added friction under Biden.  \n",
      "\n",
      "### **Phase One Agreement (January 2020):**\n",
      "- A partial truce under Trump and Xi Jinping:  \n",
      "  - China agreed to buy more U.S. goods (agriculture, energy).  \n",
      "  - The U.S. slightly reduced tariffs but kept most in place.  \n",
      "- However, core issues like IP theft and industrial subsidies remained unresolved.\n",
      "\n",
      "### **Under Biden (2021–Present):**\n",
      "- **Continued Tariffs:** Most Trump-era tariffs remain, though some exemptions apply.  \n",
      "- **Tech Restrictions:** Stricter controls on semiconductor exports to China (e.g., advanced chips for AI and military tech).  \n",
      "- **Decoupling Efforts:** The U.S. is encouraging companies to diversify supply chains away from China.  \n",
      "- **New Conflicts:** Escalation over rare earth minerals, Taiwan’s tech dominance, and AI competition.  \n",
      "\n",
      "### **Current Status (2023–2024):**\n",
      "- **Ongoing Tariffs:** U.S. tariffs on Chinese goods remain, hurting some U.S. businesses and consumers.  \n",
      "- **Supply Chain Shifts:** Companies are diversifying production to countries like Vietnam and India, but full decoupling is unlikely due to interdependence.  \n",
      "- **Technology Rivalry:** Both nations are investing in AI, semiconductors, and green energy tech, creating a \"tech cold war.\"  \n",
      "- **Human Rights and Politics:** The U.S. has sanctioned Chinese officials over human rights abuses, deepening distrust.  \n",
      "\n",
      "### **Key Challenges:**\n",
      "- **Economic Impact:** Global supply chains were disrupted, and both economies faced inflation and market volatility.  \n",
      "- **No Clear Winner:** Studies suggest tariffs cost U.S. jobs and raised consumer prices, while China’s economy slowed but diversified its trade partners.  \n",
      "- **Geopolitical Spillover:** The conflict has reshaped global trade dynamics, with other nations (e.g., EU) caught in the crossfire.  \n",
      "\n",
      "### **Future Outlook:**\n",
      "- **Stalemate Likely:** Both nations see the conflict as strategic, not temporary. The U.S. aims to curb China’s rise, while Beijing resists external pressure.  \n",
      "- **Areas of Conflict:**  \n",
      "  - **Technology:** U.S. export bans and investment restrictions.  \n",
      "  - **Global Influence:** Competing visions for tech standards (e.g., 5G, AI) and regional trade deals (e.g., Indo-Pacific partnerships vs. Belt and Road).  \n",
      "  - **Climate and Energy:** Collaboration on climate is rare, though energy interdependence persists (e.g., rare earth minerals, oil).  \n",
      "\n",
      "### **Why It Matters:**\n",
      "This isn’t just about trade—it’s a clash over economic models, technological supremacy, and global influence. While direct military conflict is unlikely, the rivalry will shape the 21st-century global order, affecting supply chains, innovation, and diplomacy worldwide.\n"
     ]
    }
   ],
   "source": [
    "messages['messages'][3].pretty_print()"
   ]
  },
  {
   "cell_type": "code",
   "execution_count": null,
   "id": "d22143a0",
   "metadata": {},
   "outputs": [],
   "source": []
  },
  {
   "cell_type": "code",
   "execution_count": null,
   "id": "af0e32b2",
   "metadata": {},
   "outputs": [],
   "source": []
  }
 ],
 "metadata": {
  "kernelspec": {
   "display_name": "langgraph",
   "language": "python",
   "name": "python3"
  },
  "language_info": {
   "codemirror_mode": {
    "name": "ipython",
    "version": 3
   },
   "file_extension": ".py",
   "mimetype": "text/x-python",
   "name": "python",
   "nbconvert_exporter": "python",
   "pygments_lexer": "ipython3",
   "version": "3.12.9"
  }
 },
 "nbformat": 4,
 "nbformat_minor": 5
}
