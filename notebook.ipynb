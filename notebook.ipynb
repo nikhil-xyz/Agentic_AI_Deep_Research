{
 "cells": [
  {
   "cell_type": "code",
   "execution_count": 1,
   "id": "3993bf30",
   "metadata": {},
   "outputs": [],
   "source": [
    "import os\n",
    "from dotenv import load_dotenv"
   ]
  },
  {
   "cell_type": "code",
   "execution_count": 2,
   "id": "d169c062",
   "metadata": {},
   "outputs": [
    {
     "data": {
      "text/plain": [
       "True"
      ]
     },
     "execution_count": 2,
     "metadata": {},
     "output_type": "execute_result"
    }
   ],
   "source": [
    "load_dotenv()"
   ]
  },
  {
   "cell_type": "code",
   "execution_count": 3,
   "id": "81e88997",
   "metadata": {},
   "outputs": [],
   "source": [
    "os.environ['TAVILY_API_KEY'] = os.getenv('TAVILY_API_KEY')\n",
    "os.environ['GROQ_API_KEY'] = os.getenv('GROQ_API_KEY')"
   ]
  },
  {
   "cell_type": "code",
   "execution_count": 4,
   "id": "6c040e85",
   "metadata": {},
   "outputs": [],
   "source": [
    "from langchain_community.tools.tavily_search import TavilySearchResults\n",
    "tavily = TavilySearchResults()"
   ]
  },
  {
   "cell_type": "code",
   "execution_count": 5,
   "id": "1df4766f",
   "metadata": {},
   "outputs": [],
   "source": [
    "result = tavily.invoke(\"what is large language model\")"
   ]
  },
  {
   "cell_type": "code",
   "execution_count": 6,
   "id": "784e038a",
   "metadata": {},
   "outputs": [
    {
     "data": {
      "text/plain": [
       "[{'title': 'Large language model - Wikipedia',\n",
       "  'url': 'https://en.wikipedia.org/wiki/Large_language_model',\n",
       "  'content': 'Related articlesGlossary of artificial intelligenceList of datasets for machine-learning researchList of datasets in computer vision and image processingOutline of machine learning\\nvte\\nA large language model (LLM) is a type of machine learning model designed for natural language processing tasks such as language generation. LLMs are language models with many parameters, and are trained with self-supervised learning on a vast amount of text. [...] tasks and understanding. The NTL Model outlines how specific neural structures of the human brain shape the nature of thought and language and in turn what are the computational properties of such neural systems that can be applied to model thought and language in a computer system. After a framework for modeling language in a computer systems was established, the focus shifted to establishing frameworks for computer systems to generate language with acceptable grammar. In his 2014 book titled [...] Let \\n\\n\\n\\nx\\n\\n\\n{\\\\displaystyle x}\\n\\n be the number of parameter count, and \\n\\n\\n\\ny\\n\\n\\n{\\\\displaystyle y}\\n\\n be the performance of the model.\\n\\nInterpretation\\n\\nLarge language models by themselves are black boxes, and it is not clear how they can perform linguistic tasks. Similarly, it is unclear if or how LLMs should be viewed as models of the human brain and/or human mind.[104]',\n",
       "  'score': 0.94989765},\n",
       " {'title': 'What are Large Language Models (LLMs)? - TechTarget',\n",
       "  'url': 'https://www.techtarget.com/whatis/definition/large-language-model-LLM',\n",
       "  'content': \"A large language model is a type of artificial intelligence algorithm that uses\\xa0deep learning\\xa0techniques and massively large data sets to understand, summarize, generate and predict new content. The term\\xa0generative AI\\xa0also is closely connected with LLMs, which are, in fact, a type of generative AI that has been specifically architected to help generate text-based content. [...] An LLM is the evolution of the language model concept in AI that dramatically expands the data used for training and inference. In turn, it provides a massive increase in the capabilities of the AI model. While there isn't a universally accepted figure for how large the data set for training needs to be, an LLM typically has at least one billion or more parameters. Parameters\\xa0are a\\xa0machine learning\\xa0term for the variables present in the model on which it was trained that can be used to infer new [...] On the other hand, the use of large language models could drive new instances of\\xa0shadow IT\\xa0in organizations. CIOs will need to implement usage guardrails and provide training to avoid data privacy problems and other issues. LLMs could also create new cybersecurity challenges by enabling attackers to write more persuasive and realistic phishing emails or other malicious communications.\",\n",
       "  'score': 0.94225764},\n",
       " {'title': 'What is LLM? - Large Language Models Explained - AWS',\n",
       "  'url': 'https://aws.amazon.com/what-is/large-language-model/',\n",
       "  'content': 'What is LLM (Large Language Model)?\\n\\nWhat are Large Language Models?\\n\\nLarge language models, also known as LLMs, are very large deep learning models that are pre-trained on vast amounts of data. The underlying transformer is a set of neural networks that consist of an encoder and a decoder with self-attention capabilities. The encoder and decoder extract meanings from a sequence of text and understand the relationships between words and phrases in it. [...] Large language models are incredibly flexible. One model can perform completely different tasks such as answering questions, summarizing documents, translating languages and completing sentences. LLMs have the potential to disrupt content creation and the way people use search engines and virtual assistants. [...] While not perfect, LLMs are demonstrating a remarkable ability to make predictions based on a relatively small number of prompts or inputs. LLMs can be used for generative AI (artificial intelligence) to produce content based on input prompts in human language.\\n\\nLLMs are big, very big. They can consider billions of parameters and have many possible uses. Here are some examples:\\n\\nRead more about\\xa0generative AI\\xa0»\\n\\nRead more about\\xa0foundation models\\xa0»\\n\\nHow do large language models work?',\n",
       "  'score': 0.9418739},\n",
       " {'title': 'What is an LLM (large language model)? - Cloudflare',\n",
       "  'url': 'https://www.cloudflare.com/learning/ai/what-is-large-language-model/',\n",
       "  'content': 'A large language model (LLM) is a type of artificial intelligence (AI) program that can recognize and generate text, among other tasks. LLMs are trained on huge sets of data — hence the name \"large.\" LLMs are built on machine learning: specifically, a type of neural network called a transformer model. [...] Log in\\nSolutionsProductsPricingResourcesPartnersWhy Cloudflare\\nSupport\\nSign up\\nWhat is a large language model (LLM)?\\nLarge language models (LLMs) are machine learning models that can comprehend and generate human language text. They work by analyzing massive data sets of language.\\nLearning Center\\n\\n\\nWhat is artificial intelligence (AI)?\\n\\n\\nWhat is a large language model (LLM)?\\n\\n\\nMachine learning\\n\\nGlossary\\n\\nLearning Objectives\\nAfter reading this article you will be able to: [...] In simpler terms, an LLM is a computer program that has been fed enough examples to be able to recognize and interpret human language or other types of complex data. Many LLMs are trained on data that has been gathered from the Internet — thousands or millions of gigabytes\\' worth of text. But the quality of the samples impacts how well LLMs will learn natural language, so an LLM\\'s programmers may use a more curated data set.',\n",
       "  'score': 0.9416167},\n",
       " {'title': 'What is a large language model (LLM)?',\n",
       "  'url': 'https://ask.library.arizona.edu/faq/407985',\n",
       "  'content': 'A large language model (LLM) is a type of artificial intelligence that can generate human language and perform related tasks. These models are trained on',\n",
       "  'score': 0.9405774}]"
      ]
     },
     "execution_count": 6,
     "metadata": {},
     "output_type": "execute_result"
    }
   ],
   "source": [
    "result"
   ]
  },
  {
   "cell_type": "code",
   "execution_count": 7,
   "id": "2ecc871b",
   "metadata": {},
   "outputs": [
    {
     "data": {
      "text/plain": [
       "'Related articlesGlossary of artificial intelligenceList of datasets for machine-learning researchList of datasets in computer vision and image processingOutline of machine learning\\nvte\\nA large language model (LLM) is a type of machine learning model designed for natural language processing tasks such as language generation. LLMs are language models with many parameters, and are trained with self-supervised learning on a vast amount of text. [...] tasks and understanding. The NTL Model outlines how specific neural structures of the human brain shape the nature of thought and language and in turn what are the computational properties of such neural systems that can be applied to model thought and language in a computer system. After a framework for modeling language in a computer systems was established, the focus shifted to establishing frameworks for computer systems to generate language with acceptable grammar. In his 2014 book titled [...] Let \\n\\n\\n\\nx\\n\\n\\n{\\\\displaystyle x}\\n\\n be the number of parameter count, and \\n\\n\\n\\ny\\n\\n\\n{\\\\displaystyle y}\\n\\n be the performance of the model.\\n\\nInterpretation\\n\\nLarge language models by themselves are black boxes, and it is not clear how they can perform linguistic tasks. Similarly, it is unclear if or how LLMs should be viewed as models of the human brain and/or human mind.[104]'"
      ]
     },
     "execution_count": 7,
     "metadata": {},
     "output_type": "execute_result"
    }
   ],
   "source": [
    "result[0]['content']"
   ]
  },
  {
   "cell_type": "code",
   "execution_count": 8,
   "id": "7067bc71",
   "metadata": {},
   "outputs": [],
   "source": [
    "from langchain_community.tools import ArxivQueryRun\n",
    "from langchain_community.tools import WikipediaQueryRun"
   ]
  },
  {
   "cell_type": "code",
   "execution_count": 9,
   "id": "88d6a98f",
   "metadata": {},
   "outputs": [],
   "source": [
    "from langchain_community.utilities import ArxivAPIWrapper\n",
    "from langchain_community.utilities import WikipediaAPIWrapper"
   ]
  },
  {
   "cell_type": "code",
   "execution_count": 10,
   "id": "a6046dc9",
   "metadata": {},
   "outputs": [],
   "source": [
    "wiki_api = WikipediaAPIWrapper(top_k_results=3, doc_content_chars_max=200)\n",
    "wikipedia = WikipediaQueryRun(api_wrapper=wiki_api)"
   ]
  },
  {
   "cell_type": "code",
   "execution_count": 11,
   "id": "12f9030a",
   "metadata": {},
   "outputs": [],
   "source": [
    "arxiv_api = ArxivAPIWrapper(top_k_results=3, doc_content_chars_max=200)\n",
    "arxiv = ArxivQueryRun(api_wrapper=arxiv_api)"
   ]
  },
  {
   "cell_type": "code",
   "execution_count": 12,
   "id": "99b09d1d",
   "metadata": {},
   "outputs": [],
   "source": [
    "tools = [wikipedia, arxiv, tavily]"
   ]
  },
  {
   "cell_type": "code",
   "execution_count": 13,
   "id": "f8de3983",
   "metadata": {},
   "outputs": [],
   "source": [
    "from langchain_groq import ChatGroq\n",
    "\n",
    "llm = ChatGroq(model='qwen-qwq-32b')"
   ]
  },
  {
   "cell_type": "code",
   "execution_count": 14,
   "id": "a2133b72",
   "metadata": {},
   "outputs": [],
   "source": [
    "llm_with_tools = llm.bind_tools(tools=tools)"
   ]
  },
  {
   "cell_type": "code",
   "execution_count": 18,
   "id": "aafceeee",
   "metadata": {},
   "outputs": [],
   "source": [
    "result = llm_with_tools.invoke(\"what is large language model?\")"
   ]
  },
  {
   "cell_type": "code",
   "execution_count": 21,
   "id": "95fc18bc",
   "metadata": {},
   "outputs": [
    {
     "data": {
      "text/plain": [
       "[{'name': 'wikipedia',\n",
       "  'args': {'query': 'large language model'},\n",
       "  'id': 'call_kxcc',\n",
       "  'type': 'tool_call'}]"
      ]
     },
     "execution_count": 21,
     "metadata": {},
     "output_type": "execute_result"
    }
   ],
   "source": [
    "tool_calls = result.tool_calls\n",
    "tool_calls"
   ]
  },
  {
   "cell_type": "code",
   "execution_count": 30,
   "id": "d4a50630",
   "metadata": {},
   "outputs": [
    {
     "data": {
      "text/plain": [
       "'Page: Large language model\\nSummary: A large language model (LLM) is a type of machine learning model designed for natural language processing tasks such as language generation. LLMs are language model'"
      ]
     },
     "execution_count": 30,
     "metadata": {},
     "output_type": "execute_result"
    }
   ],
   "source": [
    "wikipedia.invoke(tool_calls[0]['args'])"
   ]
  },
  {
   "cell_type": "code",
   "execution_count": null,
   "id": "5ee7cfed",
   "metadata": {},
   "outputs": [],
   "source": []
  }
 ],
 "metadata": {
  "kernelspec": {
   "display_name": "langgraph",
   "language": "python",
   "name": "python3"
  },
  "language_info": {
   "codemirror_mode": {
    "name": "ipython",
    "version": 3
   },
   "file_extension": ".py",
   "mimetype": "text/x-python",
   "name": "python",
   "nbconvert_exporter": "python",
   "pygments_lexer": "ipython3",
   "version": "3.12.9"
  }
 },
 "nbformat": 4,
 "nbformat_minor": 5
}
